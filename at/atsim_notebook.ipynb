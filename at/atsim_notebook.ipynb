{
 "cells": [
  {
   "cell_type": "markdown",
   "metadata": {},
   "source": [
    "Simulating the difference between having treasure hunter or not"
   ]
  },
  {
   "cell_type": "code",
   "execution_count": 331,
   "metadata": {},
   "outputs": [],
   "source": [
    "import matplotlib as mpl\n",
    "import matplotlib.pyplot as plt\n",
    "import numpy as np\n",
    "import ctypes"
   ]
  },
  {
   "cell_type": "markdown",
   "metadata": {},
   "source": [
    "Setting Up Variables"
   ]
  },
  {
   "cell_type": "code",
   "execution_count": 356,
   "metadata": {},
   "outputs": [
    {
     "data": {
      "text/plain": [
       "5080.43097226"
      ]
     },
     "execution_count": 356,
     "metadata": {},
     "output_type": "execute_result"
    }
   ],
   "source": [
    "# {rare, legendary, mythic, unique, common/event}\n",
    "sell_values = [10,50,200,200,2]\n",
    "\n",
    "prob = [0.0625,0.0125,0.001,0.001]\n",
    "prob_th = [1.5*p for p in prob]\n",
    "prob.append(1-sum(prob))\n",
    "prob_th.append(1-sum(prob_th))\n",
    "prob_cc = [0.0625,0.0125,0.001,0.0015]\n",
    "prob_th_cc = [1.5*p for p in prob_cc]\n",
    "prob_cc.append(1-sum(prob_cc))\n",
    "prob_th_cc.append(1-sum(prob_th_cc))\n",
    "th_cost = 700*7.2577585318\n",
    "cc_cost = 140*7.2577585318\n",
    "\n",
    "th_cost"
   ]
  },
  {
   "cell_type": "code",
   "execution_count": 333,
   "metadata": {},
   "outputs": [
    {
     "name": "stdout",
     "output_type": "stream",
     "text": [
      "Overwriting at_sim.c\n"
     ]
    }
   ],
   "source": [
    "%%writefile at_sim.c\n",
    "#include <stdlib.h>\n",
    "#include <time.h>\n",
    "#include <math.h>\n",
    "\n",
    "int draw_index(double *weights, int size) {\n",
    "    double total = 0.0;\n",
    "    for (int i = 0; i < size; i++) {\n",
    "        total += weights[i];\n",
    "    }\n",
    "\n",
    "    double r = ((double)rand() / RAND_MAX) * total;\n",
    "    for (int i = 0; i < size; i++) {\n",
    "        if (r < weights[i]) {\n",
    "            return i;\n",
    "        }\n",
    "        r -= weights[i];\n",
    "    }\n",
    "    return size - 1; // Fallback, though should never happen\n",
    "}\n",
    "\n",
    "int breakeven_c(int *nums, double *prob1, double *prob2, int size, double cost) {\n",
    "    double sum1 = 0.0, sum2 = 0.0;\n",
    "    int equipment = 0;\n",
    "\n",
    "    while (fabs(sum1 - sum2) <= cost) {\n",
    "        int index1 = draw_index(prob1, size);\n",
    "        int index2 = draw_index(prob2, size);\n",
    "\n",
    "        sum1 += nums[index1];\n",
    "        sum2 += nums[index2];\n",
    "        equipment += 1;\n",
    "    }\n",
    "\n",
    "    return equipment * 20;\n",
    "}"
   ]
  },
  {
   "cell_type": "code",
   "execution_count": 334,
   "metadata": {},
   "outputs": [],
   "source": [
    "!gcc -shared -o at_sim.so -fPIC at_sim.c"
   ]
  },
  {
   "cell_type": "code",
   "execution_count": null,
   "metadata": {},
   "outputs": [],
   "source": [
    "# Load the shared library\n",
    "lib = ctypes.CDLL('./at_sim.so')\n",
    "\n",
    "# Define the argument and return types for the C function\n",
    "lib.breakeven_c.argtypes = [\n",
    "    ctypes.POINTER(ctypes.c_int), \n",
    "    ctypes.POINTER(ctypes.c_double), \n",
    "    ctypes.POINTER(ctypes.c_double), \n",
    "    ctypes.c_int, \n",
    "    ctypes.c_double\n",
    "]\n",
    "lib.breakeven_c.restype = ctypes.c_int\n",
    "\n",
    "def breakeven(nums, prob1, prob2, cost):\n",
    "    size = len(nums)\n",
    "    nums_c = (ctypes.c_int * size)(*nums)\n",
    "    prob1_c = (ctypes.c_double * size)(*prob1)\n",
    "    prob2_c = (ctypes.c_double * size)(*prob2)\n",
    "    \n",
    "    stages = lib.breakeven_c(nums_c, prob1_c, prob2_c, size, cost)\n",
    "    return stages\n"
   ]
  },
  {
   "cell_type": "markdown",
   "metadata": {},
   "source": [
    "Sample"
   ]
  },
  {
   "cell_type": "code",
   "execution_count": null,
   "metadata": {},
   "outputs": [
    {
     "data": {
      "text/plain": [
       "129220"
      ]
     },
     "execution_count": 336,
     "metadata": {},
     "output_type": "execute_result"
    }
   ],
   "source": [
    "info1 = breakeven(sell_values, prob, prob_th, th_cost)\n",
    "info1"
   ]
  },
  {
   "cell_type": "markdown",
   "metadata": {},
   "source": [
    "Now for a Simulation"
   ]
  },
  {
   "cell_type": "code",
   "execution_count": 337,
   "metadata": {},
   "outputs": [],
   "source": [
    "def at_sim(n, nums, prob1, prob2, cost, start):\n",
    "    stages = np.zeros(n)\n",
    "    for i in range(n):\n",
    "        stages[i] = breakeven(nums, prob1, prob2, cost) + start\n",
    "    return stages"
   ]
  },
  {
   "cell_type": "code",
   "execution_count": null,
   "metadata": {},
   "outputs": [],
   "source": [
    "sims = at_sim(100000, sell_values, prob, prob_th, th_cost, 1000) # Companion Frenzy"
   ]
  },
  {
   "cell_type": "code",
   "execution_count": 349,
   "metadata": {},
   "outputs": [
    {
     "name": "stdout",
     "output_type": "stream",
     "text": [
      "133490.0\n"
     ]
    },
    {
     "data": {
      "text/plain": [
       "Text(0, 0.5, 'Frequency')"
      ]
     },
     "execution_count": 349,
     "metadata": {},
     "output_type": "execute_result"
    },
    {
     "data": {
      "image/png": "[encoded data removed]",
      "text/plain": [
       "<Figure size 500x500 with 1 Axes>"
      ]
     },
     "metadata": {},
     "output_type": "display_data"
    }
   ],
   "source": [
    "print(np.median(sims))\n",
    "\n",
    "roundby = lambda n,i: round(n/i)*i\n",
    "# [s for s in sims if s <= 180000]\n",
    "plt.figure(figsize=(5,5))\n",
    "ax1 = plt.hist(sims, bins=10)\n",
    "plt.title('When will the extra diamonds offset TH cost?')\n",
    "plt.xlabel('Stage')\n",
    "plt.ylabel('Frequency')"
   ]
  },
  {
   "cell_type": "code",
   "execution_count": 350,
   "metadata": {},
   "outputs": [
    {
     "data": {
      "text/plain": [
       "array([112660., 133490., 158940.])"
      ]
     },
     "execution_count": 350,
     "metadata": {},
     "output_type": "execute_result"
    },
    {
     "data": {
      "image/png": "[encoded data removed]",
      "text/plain": [
       "<Figure size 640x480 with 1 Axes>"
      ]
     },
     "metadata": {},
     "output_type": "display_data"
    }
   ],
   "source": [
    "ax2 = plt.boxplot(sims, vert=False)\n",
    "np.quantile(sims, [0.25,0.5,0.75])"
   ]
  }
 ],
 "metadata": {
  "kernelspec": {
   "display_name": "base",
   "language": "python",
   "name": "python3"
  },
  "language_info": {
   "codemirror_mode": {
    "name": "ipython",
    "version": 3
   },
   "file_extension": ".py",
   "mimetype": "text/x-python",
   "name": "python",
   "nbconvert_exporter": "python",
   "pygments_lexer": "ipython3",
   "version": "3.12.4"
  }
 },
 "nbformat": 4,
 "nbformat_minor": 2
}
