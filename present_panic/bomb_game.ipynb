{
  "cells": [
    {
      "cell_type": "markdown",
      "metadata": {
        "colab_type": "text",
        "id": "view-in-github"
      },
      "source": [
        "<a href=\"https://colab.research.google.com/github/dat810/tt2_things/blob/main/present_panic/bomb_game.ipynb\" target=\"_parent\"><img src=\"https://colab.research.google.com/assets/colab-badge.svg\" alt=\"Open In Colab\"/></a>"
      ]
    },
    {
      "cell_type": "markdown",
      "metadata": {
        "id": "6jRrvnuRqwf4"
      },
      "source": [
        "# Prestige Event Bomb Game\n",
        "\n",
        "Exploring the following:\n",
        "- Average scissors needed per board\n",
        "- Average boards completed for the event\n",
        "\n",
        "So that you are prepared for the RNG 🤣"
      ]
    },
    {
      "cell_type": "markdown",
      "metadata": {
        "id": "FiYFqLOwsnYn"
      },
      "source": [
        "## Setting Up\n",
        "Loading libraries"
      ]
    },
    {
      "cell_type": "code",
      "execution_count": 1,
      "metadata": {
        "id": "-47aS4OapY5J"
      },
      "outputs": [],
      "source": [
        "import random\n",
        "import numpy as np\n",
        "import ctypes\n",
        "import matplotlib.pyplot as plt\n",
        "import pandas as pd\n",
        "import multiprocessing as mp"
      ]
    },
    {
      "cell_type": "markdown",
      "metadata": {
        "id": "6wxbzhFysItK"
      },
      "source": [
        "Loading the dataset (as of 7.5.2)"
      ]
    },
    {
      "cell_type": "code",
      "execution_count": 2,
      "metadata": {
        "id": "Sh5Vo6UOsaXq"
      },
      "outputs": [],
      "source": [
        "level_info = pd.read_csv('HolidayEventBombGameLevelInfo.csv')"
      ]
    },
    {
      "cell_type": "markdown",
      "metadata": {
        "id": "YREcRgSBsuHx"
      },
      "source": [
        "Defining a Board"
      ]
    },
    {
      "cell_type": "code",
      "execution_count": 3,
      "metadata": {
        "id": "PJNUP2mjst3f"
      },
      "outputs": [],
      "source": [
        "class Board:\n",
        "    def __init__(self,dim,bombs,target,diff_idx):\n",
        "        self.dim = dim\n",
        "        self.bombs = bombs\n",
        "        self.target = target\n",
        "        self.boxes = self.dim[0]*self.dim[1]\n",
        "\n",
        "        idx_to_diff = {\n",
        "            0: 'Easy', 1: 'Hard', 2: 'Impossible'\n",
        "        }\n",
        "        self.diff = idx_to_diff.get(diff_idx)\n",
        "\n",
        "\n",
        "    def __str__(self):\n",
        "        return (\n",
        "            f\"Board size: {self.dim[0]}x{self.dim[1]}\\n\"\n",
        "            f\"Bombs count: {self.bombs}\\n\"\n",
        "            f\"Streak needed: {self.target}\\n\"\n",
        "            f\"Difficulty: {self.diff}\"\n",
        "        )"
      ]
    },
    {
      "cell_type": "markdown",
      "metadata": {
        "id": "q9ntmj-9sdTa"
      },
      "source": [
        "## Average Scissors Needed per Board"
      ]
    },
    {
      "cell_type": "markdown",
      "metadata": {
        "id": "WuaJ5tYesg6D"
      },
      "source": [
        "## Average Boards Completed in an Event"
      ]
    },
    {
      "cell_type": "markdown",
      "metadata": {},
      "source": [
        "## Notebook Information\n",
        "- Notebook content created by dat\n",
        "- Dataset from rawrzcookie, who also fetched the CSV files here: ."
      ]
    }
  ],
  "metadata": {
    "colab": {
      "authorship_tag": "ABX9TyMeInN4cqaGO/JxY5fe/oyi",
      "include_colab_link": true,
      "provenance": []
    },
    "kernelspec": {
      "display_name": "base",
      "language": "python",
      "name": "python3"
    },
    "language_info": {
      "codemirror_mode": {
        "name": "ipython",
        "version": 3
      },
      "file_extension": ".py",
      "mimetype": "text/x-python",
      "name": "python",
      "nbconvert_exporter": "python",
      "pygments_lexer": "ipython3",
      "version": "3.12.4"
    }
  },
  "nbformat": 4,
  "nbformat_minor": 0
}
