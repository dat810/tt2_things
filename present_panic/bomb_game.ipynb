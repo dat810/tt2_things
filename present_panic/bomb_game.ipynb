{
  "cells": [
    {
      "cell_type": "markdown",
      "metadata": {
        "id": "view-in-github",
        "colab_type": "text"
      },
      "source": [
        "<a href=\"https://colab.research.google.com/github/dat810/tt2_things/blob/main/present_panic/bomb_game.ipynb\" target=\"_parent\"><img src=\"https://colab.research.google.com/assets/colab-badge.svg\" alt=\"Open In Colab\"/></a>"
      ]
    },
    {
      "cell_type": "markdown",
      "metadata": {
        "id": "6jRrvnuRqwf4"
      },
      "source": [
        "# Prestige Event Bomb Game\n",
        "\n",
        "Exploring the following:\n",
        "- Average scissors needed per board\n",
        "- Average boards completed for the event\n",
        "\n",
        "So that you are prepared for the RNG 🤣"
      ]
    },
    {
      "cell_type": "markdown",
      "metadata": {
        "id": "FiYFqLOwsnYn"
      },
      "source": [
        "## Setting Up\n",
        "Load libraries"
      ]
    },
    {
      "cell_type": "code",
      "execution_count": null,
      "metadata": {
        "id": "-47aS4OapY5J"
      },
      "outputs": [],
      "source": [
        "import random\n",
        "import numpy as np\n",
        "import ctypes\n",
        "import matplotlib.pyplot as plt\n",
        "import pandas as pd\n",
        "import multiprocessing as mp\n",
        "import os\n",
        "import requests"
      ]
    },
    {
      "cell_type": "markdown",
      "metadata": {
        "id": "6wxbzhFysItK"
      },
      "source": [
        "Load the dataset (as of 7.5.2)"
      ]
    },
    {
      "cell_type": "code",
      "execution_count": null,
      "metadata": {
        "id": "Sh5Vo6UOsaXq",
        "outputId": "487b149e-4857-42df-cd43-79270306d9fc"
      },
      "outputs": [
        {
          "name": "stdout",
          "output_type": "stream",
          "text": [
            "Dataset already exists at HolidayEventBombGameLevelInfo.csv\n"
          ]
        }
      ],
      "source": [
        "!git clone https://github.com/rawrzcookie/TT2_CSV.git"
      ]
    },
    {
      "cell_type": "code",
      "source": [
        "!cp TT2_CSV/csv/HolidayEventBombGameLevelInfo.csv ."
      ],
      "metadata": {
        "id": "Dvtzv3rWpTxz"
      },
      "execution_count": null,
      "outputs": []
    },
    {
      "cell_type": "code",
      "source": [
        "level_info = pd.read_csv('HolidayEventBombGameLevelInfo.csv')"
      ],
      "metadata": {
        "id": "exUMa3H4_TzJ"
      },
      "execution_count": null,
      "outputs": []
    },
    {
      "cell_type": "markdown",
      "metadata": {
        "id": "YREcRgSBsuHx"
      },
      "source": [
        "Define a Board"
      ]
    },
    {
      "cell_type": "code",
      "execution_count": null,
      "metadata": {
        "id": "PJNUP2mjst3f"
      },
      "outputs": [],
      "source": [
        "%%writefile board.h\n",
        "#ifndef BOARD_H\n",
        "#define BOARD_H\n",
        "\n",
        "typedef struct {\n",
        "    int rows;\n",
        "    int columns;\n",
        "    int bombs;\n",
        "    int target;\n",
        "    char difficulty[12];\n",
        "} Board;\n",
        "\n",
        "#endif // BOARD_H\n"
      ]
    },
    {
      "cell_type": "code",
      "source": [
        "%%writefile board.c\n",
        "#include <string.h>\n",
        "#include \"board.h\"\n",
        "\n",
        "// Function to determine difficulty from index\n",
        "void getDifficulty(int diff_idx, char *difficulty) {\n",
        "    switch (diff_idx) {\n",
        "        case 0:\n",
        "            strcpy(difficulty, \"Easy\");\n",
        "            break;\n",
        "        case 1:\n",
        "            strcpy(difficulty, \"Hard\");\n",
        "            break;\n",
        "        case 2:\n",
        "            strcpy(difficulty, \"Impossible\");\n",
        "            break;\n",
        "        default:\n",
        "            strcpy(difficulty, \"Unknown\");\n",
        "    }\n",
        "}\n"
      ],
      "metadata": {
        "id": "aLhB_PH-ulaS"
      },
      "execution_count": null,
      "outputs": []
    },
    {
      "cell_type": "markdown",
      "source": [
        "Define a simulator for a board. Return the number of scissors used.\n",
        "\n"
      ],
      "metadata": {
        "id": "UyahEOHJbfSM"
      }
    },
    {
      "cell_type": "code",
      "source": [
        "%%writefile bomb_game_sim.h\n",
        "#ifndef BOMB_GAME_SIM_H\n",
        "#define BOMB_GAME_SIM_H\n",
        "\n",
        "int bomb_game_sim(int boxes, int bombs, int target);\n",
        "\n",
        "#endif // BOMB_GAME_SIM_H\n"
      ],
      "metadata": {
        "id": "MSrj0NxeuqjE"
      },
      "execution_count": null,
      "outputs": []
    },
    {
      "cell_type": "code",
      "source": [
        "%%writefile bomb_game_sim.c\n",
        "#include <stdlib.h>\n",
        "#include <time.h>\n",
        "\n",
        "int bomb_game_sim (int boxes, int bombs, int target) {\n",
        "    int g = boxes - bombs;\n",
        "    int total_scissors = 0;\n",
        "    int streak = 0;\n",
        "    int *board = (int *)malloc(boxes*sizeof(int));\n",
        "    int i;\n",
        "\n",
        "    // Initialize the board: 0 for bombs, 1 for corrects\n",
        "    for (i=0;i<bombs;i++) {\n",
        "        board[i] = 0; // bombs\n",
        "    }\n",
        "    for (i=bombs;i<boxes;i++) {\n",
        "        board[i] = 1; // corrects\n",
        "    }\n",
        "\n",
        "    srand((unsigned int)time(NULL)+rand());\n",
        "\n",
        "    while (streak < target) {\n",
        "        int index = rand() % boxes;\n",
        "        total_scissors++;\n",
        "\n",
        "        if (board[index] == 1) { // corrects\n",
        "            streak++;\n",
        "            board[index] = board[--boxes]; // Remove corrects and shrink board\n",
        "        } else { // troll\n",
        "            streak = 0;\n",
        "            bombs--;\n",
        "            boxes = bombs + g; // Reset board\n",
        "            for (i = 0; i < bombs; i++) board[i] = 0; // bombs\n",
        "            for (i = bombs; i < boxes; i++) board[i] = 1; // corrects\n",
        "        }\n",
        "    }\n",
        "\n",
        "    free(board);\n",
        "    return total_scissors;\n",
        "}"
      ],
      "metadata": {
        "id": "P0NbGUXOcDzd"
      },
      "execution_count": null,
      "outputs": []
    },
    {
      "cell_type": "markdown",
      "source": [
        "Define a simulator for an event run. Return the number of boards completed."
      ],
      "metadata": {
        "id": "_J0BSJIPcEHm"
      }
    },
    {
      "cell_type": "code",
      "source": [
        "%%writefile event_sim.h\n",
        "#ifndef EVENT_SIM_H\n",
        "#define EVENT_SIM_H\n",
        "\n",
        "#include \"board.h\"\n",
        "\n",
        "void event_sim(int n, int start, Board *boards, int num_boards, int *results);\n",
        "\n",
        "#endif // EVENT_SIM_H\n"
      ],
      "metadata": {
        "id": "NsIkjCz0cHvm"
      },
      "execution_count": null,
      "outputs": []
    },
    {
      "cell_type": "code",
      "source": [
        "%%writefile event_sim.c\n",
        "include <stdio.h>\n",
        "#include <stdlib.h>\n",
        "#include \"event_sim.h\"\n",
        "#include \"bomb_game_sim.h\"\n",
        "\n",
        "void event_sim(int n, int start, Board *boards, int num_boards, int *results) {\n",
        "    for (int j = 0; j < n; j++) {\n",
        "        int i = 0;\n",
        "        int scissors = start;\n",
        "\n",
        "        while (scissors > 0) {\n",
        "            if (i >= num_boards) {\n",
        "                printf(\"Error: No more boards available.\\n\");\n",
        "                results[j] = i;\n",
        "                break;\n",
        "            }\n",
        "\n",
        "            int bx = boards[i].rows * boards[i].columns;\n",
        "            int bm = boards[i].bombs;\n",
        "            int target = boards[i].target;\n",
        "\n",
        "            int scissors_used = bomb_game_sim(bx, bm, target);\n",
        "            scissors -= scissors_used;\n",
        "\n",
        "            if (scissors > 0) {\n",
        "                i++;\n",
        "            }\n",
        "        }\n",
        "\n",
        "        results[j] = i;\n",
        "    }\n",
        "}\n"
      ],
      "metadata": {
        "id": "I1n1NIz6u3yj"
      },
      "execution_count": null,
      "outputs": []
    },
    {
      "cell_type": "markdown",
      "source": [
        "Parse the board information into a dataframe, and create the `Board` objects."
      ],
      "metadata": {
        "id": "QyAsN2dQ_Nwf"
      }
    },
    {
      "cell_type": "markdown",
      "metadata": {
        "id": "q9ntmj-9sdTa"
      },
      "source": [
        "## Average Scissors Needed per Board"
      ]
    },
    {
      "cell_type": "code",
      "source": [
        "%%writefile main.c\n",
        "#include <stdio.h>\n",
        "#include <stdlib.h>\n",
        "#include <string.h>\n",
        "#include \"board.h\"\n",
        "#include \"event_sim.h\"\n",
        "\n",
        "#define MAX_LINE_LENGTH 1024\n",
        "#define MAX_BOARDS 100\n",
        "\n",
        "// Function to parse the CSV file and populate the boards array\n",
        "int parse_csv(const char *filename, Board *boards) {\n",
        "    FILE *file = fopen(filename, \"r\");\n",
        "    if (file == NULL) {\n",
        "        perror(\"Error opening file\");\n",
        "        return -1;\n",
        "    }\n",
        "\n",
        "    char line[MAX_LINE_LENGTH];\n",
        "    int count = 0;\n",
        "\n",
        "    // Read the header line and ignore it\n",
        "    if (fgets(line, sizeof(line), file) == NULL) {\n",
        "        perror(\"Error reading file\");\n",
        "        fclose(file);\n",
        "        return -1;\n",
        "    }\n",
        "\n",
        "    // Read each subsequent line and parse the columns\n",
        "    while (fgets(line, sizeof(line), file) && count < MAX_BOARDS) {\n",
        "        int rows, columns, bombs, successes_needed, chest_icon_index;\n",
        "\n",
        "        // Tokenize the line and extract required fields\n",
        "        char *token = strtok(line, \",\");\n",
        "        // First column: Rows\n",
        "        if (token) rows = atoi(token);\n",
        "\n",
        "        token = strtok(NULL, \",\");\n",
        "        // Second column: Columns\n",
        "        if (token) columns = atoi(token);\n",
        "\n",
        "        token = strtok(NULL, \",\");\n",
        "        // Third column: BombsOnBoard\n",
        "        if (token) bombs = atoi(token);\n",
        "\n",
        "        token = strtok(NULL, \",\");\n",
        "        // Fourth column: SuccessesNeededToWin\n",
        "        if (token) successes_needed = atoi(token);\n",
        "\n",
        "        token = strtok(NULL, \",\");\n",
        "        // Fifth column: ChestIconIndex\n",
        "        if (token) chest_icon_index = atoi(token);\n",
        "\n",
        "        // Fill the board data\n",
        "        boards[count].rows = rows;\n",
        "        boards[count].columns = columns;\n",
        "        boards[count].bombs = bombs;\n",
        "        boards[count].target = successes_needed;\n",
        "\n",
        "        // Map chest_icon_index to difficulty\n",
        "        getDifficulty(chest_icon_index, boards[count].difficulty);\n",
        "\n",
        "        count++;\n",
        "    }\n",
        "\n",
        "    fclose(file);\n",
        "    return count;\n",
        "}\n",
        "\n",
        "int main() {\n",
        "    // Declare an array to hold board information\n",
        "    Board boards[MAX_BOARDS];\n",
        "    int num_boards = parse_csv(\"HolidayEventBombGameLevelInfo.csv\", boards);\n",
        "\n",
        "    if (num_boards < 0) {\n",
        "        fprintf(stderr, \"Failed to parse CSV file.\\n\");\n",
        "        return 1;\n",
        "    }\n",
        "\n",
        "    printf(\"Loaded %d boards from the CSV file.\\n\", num_boards);\n",
        "\n",
        "    // Number of simulations and starting scissors\n",
        "    int n = 10;\n",
        "    int start = 100;\n",
        "\n",
        "    // Array to hold results\n",
        "    int *results = (int *)malloc(n * sizeof(int));\n",
        "    if (results == NULL) {\n",
        "        fprintf(stderr, \"Memory allocation failed.\\n\");\n",
        "        return 1;\n",
        "    }\n",
        "\n",
        "    // Run the simulation\n",
        "    event_sim(n, start, boards, num_boards, results);\n",
        "\n",
        "    // Print results\n",
        "    for (int i = 0; i < n; i++) {\n",
        "        printf(\"Simulation %d: Cleared %d boards\\n\", i + 1, results[i]);\n",
        "    }\n",
        "\n",
        "    // Free allocated memory\n",
        "    free(results);\n",
        "\n",
        "    return 0;\n",
        "}\n"
      ],
      "metadata": {
        "id": "qOIaOy8__Q0g"
      },
      "execution_count": null,
      "outputs": []
    },
    {
      "cell_type": "markdown",
      "metadata": {
        "id": "WuaJ5tYesg6D"
      },
      "source": [
        "## Average Boards Completed in an Event"
      ]
    },
    {
      "cell_type": "markdown",
      "metadata": {
        "id": "jU8CEGZzpLCG"
      },
      "source": [
        "## Notebook Information\n",
        "- Notebook content created by dat\n",
        "- Dataset from rawrzcookie, who also fetched the CSV files here: https://github.com/rawrzcookie/TT2_CSV"
      ]
    }
  ],
  "metadata": {
    "colab": {
      "provenance": [],
      "include_colab_link": true
    },
    "kernelspec": {
      "display_name": "base",
      "language": "python",
      "name": "python3"
    },
    "language_info": {
      "codemirror_mode": {
        "name": "ipython",
        "version": 3
      },
      "file_extension": ".py",
      "mimetype": "text/x-python",
      "name": "python",
      "nbconvert_exporter": "python",
      "pygments_lexer": "ipython3",
      "version": "3.12.4"
    }
  },
  "nbformat": 4,
  "nbformat_minor": 0
}