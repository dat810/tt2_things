{
  "nbformat": 4,
  "nbformat_minor": 0,
  "metadata": {
    "colab": {
      "provenance": [],
      "authorship_tag": "ABX9TyMeInN4cqaGO/JxY5fe/oyi",
      "include_colab_link": true
    },
    "kernelspec": {
      "name": "python3",
      "display_name": "Python 3"
    },
    "language_info": {
      "name": "python"
    }
  },
  "cells": [
    {
      "cell_type": "markdown",
      "metadata": {
        "id": "view-in-github",
        "colab_type": "text"
      },
      "source": [
        "<a href=\"https://colab.research.google.com/github/dat810/tt2_things/blob/main/present_panic/bomb_game.ipynb\" target=\"_parent\"><img src=\"https://colab.research.google.com/assets/colab-badge.svg\" alt=\"Open In Colab\"/></a>"
      ]
    },
    {
      "cell_type": "markdown",
      "source": [
        "# Prestige Event Bomb Game\n",
        "\n",
        "Exploring the following:\n",
        "- Average scissors needed per board\n",
        "- Average boards completed for the event\n",
        "\n",
        "So that you are prepared for the RNG 🤣\n",
        "\n",
        "Created by dat"
      ],
      "metadata": {
        "id": "6jRrvnuRqwf4"
      }
    },
    {
      "cell_type": "markdown",
      "source": [
        "## Setting Up\n",
        "Loading libraries"
      ],
      "metadata": {
        "id": "FiYFqLOwsnYn"
      }
    },
    {
      "cell_type": "code",
      "execution_count": null,
      "metadata": {
        "id": "-47aS4OapY5J"
      },
      "outputs": [],
      "source": [
        "import random\n",
        "import numpy as np\n",
        "import ctypes\n",
        "import matplotlib.pyplot as plt\n",
        "import pandas as pd\n",
        "import multiprocessing as mp"
      ]
    },
    {
      "cell_type": "markdown",
      "source": [
        "Loading the dataset (as of 7.5.2)"
      ],
      "metadata": {
        "id": "6wxbzhFysItK"
      }
    },
    {
      "cell_type": "code",
      "source": [
        "level_info = pd.read_csv('HolidayEventBombGameLevelInfo.csv')"
      ],
      "metadata": {
        "id": "Sh5Vo6UOsaXq"
      },
      "execution_count": null,
      "outputs": []
    },
    {
      "cell_type": "markdown",
      "source": [
        "Defining a Board"
      ],
      "metadata": {
        "id": "YREcRgSBsuHx"
      }
    },
    {
      "cell_type": "code",
      "source": [
        "class Board:\n",
        "    def __init__(self,dim,bombs,target,diff_idx):\n",
        "        self.dim = dim\n",
        "        self.bombs = bombs\n",
        "        self.target = target\n",
        "        self.boxes = self.dim[0]*self.dim[1]\n",
        "\n",
        "        idx_to_diff = {\n",
        "            0: 'Easy', 1: 'Hard', 2: 'Impossible'\n",
        "        }\n",
        "        self.diff = idx_to_diff.get(diff_idx)\n",
        "\n",
        "\n",
        "    def __str__(self):\n",
        "        return (\n",
        "            f\"Board size: {self.dim[0]}x{self.dim[1]}\\n\"\n",
        "            f\"Bombs count: {self.bombs}\\n\"\n",
        "            f\"Streak needed: {self.target}\\n\"\n",
        "            f\"Difficulty: {self.diff}\"\n",
        "        )"
      ],
      "metadata": {
        "id": "PJNUP2mjst3f"
      },
      "execution_count": null,
      "outputs": []
    },
    {
      "cell_type": "markdown",
      "source": [
        "## Average Scissors Needed per Board"
      ],
      "metadata": {
        "id": "q9ntmj-9sdTa"
      }
    },
    {
      "cell_type": "markdown",
      "source": [
        "## Average Boards Completed in an Event"
      ],
      "metadata": {
        "id": "WuaJ5tYesg6D"
      }
    }
  ]
}