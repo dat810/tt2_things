{
  "cells": [
    {
      "cell_type": "markdown",
      "metadata": {
        "id": "view-in-github",
        "colab_type": "text"
      },
      "source": [
        "<a href=\"https://colab.research.google.com/github/dat810/tt2_things/blob/main/present_panic/bomb_game.ipynb\" target=\"_parent\"><img src=\"https://colab.research.google.com/assets/colab-badge.svg\" alt=\"Open In Colab\"/></a>"
      ]
    },
    {
      "cell_type": "markdown",
      "metadata": {
        "id": "6jRrvnuRqwf4"
      },
      "source": [
        "# Prestige Event Bomb Game\n",
        "\n",
        "Exploring the following:\n",
        "- Average scissors needed per board\n",
        "- Average boards completed for the event\n",
        "\n",
        "So that you are prepared for the RNG 🤣"
      ]
    },
    {
      "cell_type": "markdown",
      "metadata": {
        "id": "FiYFqLOwsnYn"
      },
      "source": [
        "## Setting Up\n",
        "Load libraries"
      ]
    },
    {
      "cell_type": "code",
      "execution_count": null,
      "metadata": {
        "id": "-47aS4OapY5J"
      },
      "outputs": [],
      "source": [
        "import random\n",
        "import numpy as np\n",
        "import ctypes\n",
        "import matplotlib.pyplot as plt\n",
        "import pandas as pd\n",
        "import multiprocessing as mp\n",
        "import os\n",
        "import requests"
      ]
    },
    {
      "cell_type": "markdown",
      "metadata": {
        "id": "6wxbzhFysItK"
      },
      "source": [
        "Load the dataset (as of 7.5.2)"
      ]
    },
    {
      "cell_type": "code",
      "execution_count": null,
      "metadata": {
        "id": "Sh5Vo6UOsaXq",
        "outputId": "487b149e-4857-42df-cd43-79270306d9fc"
      },
      "outputs": [
        {
          "name": "stdout",
          "output_type": "stream",
          "text": [
            "Dataset already exists at HolidayEventBombGameLevelInfo.csv\n"
          ]
        }
      ],
      "source": [
        "!git clone https://github.com/rawrzcookie/TT2_CSV.git"
      ]
    },
    {
      "cell_type": "code",
      "source": [
        "!cp TT2_CSV/csv/HolidayEventBombGameLevelInfo.csv ."
      ],
      "metadata": {
        "id": "Dvtzv3rWpTxz"
      },
      "execution_count": null,
      "outputs": []
    },
    {
      "cell_type": "code",
      "source": [
        "level_info = pd.read_csv('HolidayEventBombGameLevelInfo.csv')"
      ],
      "metadata": {
        "id": "exUMa3H4_TzJ"
      },
      "execution_count": null,
      "outputs": []
    },
    {
      "cell_type": "markdown",
      "metadata": {
        "id": "YREcRgSBsuHx"
      },
      "source": [
        "Define a Board"
      ]
    },
    {
      "cell_type": "code",
      "execution_count": null,
      "metadata": {
        "id": "PJNUP2mjst3f"
      },
      "outputs": [],
      "source": [
        "class Board:\n",
        "    def __init__(self,dim,bombs,target,diff_idx):\n",
        "        self.dim = dim\n",
        "        self.bombs = bombs\n",
        "        self.target = target\n",
        "        self.boxes = self.dim[0]*self.dim[1]\n",
        "\n",
        "        idx_to_diff = {\n",
        "            0: 'Easy', 1: 'Hard', 2: 'Impossible'\n",
        "        }\n",
        "        self.diff = idx_to_diff.get(diff_idx)\n",
        "\n",
        "\n",
        "    def __str__(self):\n",
        "        return (\n",
        "            f\"Board size: {self.dim[0]}x{self.dim[1]}\\n\"\n",
        "            f\"Bombs count: {self.bombs}\\n\"\n",
        "            f\"Streak needed: {self.target}\\n\"\n",
        "            f\"Difficulty: {self.diff}\"\n",
        "        )"
      ]
    },
    {
      "cell_type": "markdown",
      "source": [
        "Define a simulator for a board. Return the number of scissors used.\n",
        "\n"
      ],
      "metadata": {
        "id": "UyahEOHJbfSM"
      }
    },
    {
      "cell_type": "code",
      "source": [
        "%%writefile bomb_game_sim.c\n",
        "#include <stdlib.h>\n",
        "#include <time.h>\n",
        "\n",
        "int bomb_game_sim (int boxes, int bombs, int target) {\n",
        "    int g = boxes - bombs;\n",
        "    int total_scissors = 0;\n",
        "    int streak = 0;\n",
        "    int *board = (int *)malloc(boxes*sizeof(int));\n",
        "    int i;\n",
        "\n",
        "    // Initialize the board: 0 for bombs, 1 for corrects\n",
        "    for (i=0;i<bombs;i++) {\n",
        "        board[i] = 0; // bombs\n",
        "    }\n",
        "    for (i=bombs;i<boxes;i++) {\n",
        "        board[i] = 1; // corrects\n",
        "    }\n",
        "\n",
        "    srand((unsigned int)time(NULL)+rand());\n",
        "\n",
        "    while (streak < target) {\n",
        "        int index = rand() % boxes;\n",
        "        total_scissors++;\n",
        "\n",
        "        if (board[index] == 1) { // corrects\n",
        "            streak++;\n",
        "            board[index] = board[--boxes]; // Remove corrects and shrink board\n",
        "        } else { // troll\n",
        "            streak = 0;\n",
        "            bombs--;\n",
        "            boxes = bombs + g; // Reset board\n",
        "            for (i = 0; i < bombs; i++) board[i] = 0; // bombs\n",
        "            for (i = bombs; i < boxes; i++) board[i] = 1; // corrects\n",
        "        }\n",
        "    }\n",
        "\n",
        "    free(board);\n",
        "    return total_scissors;\n",
        "}"
      ],
      "metadata": {
        "id": "P0NbGUXOcDzd"
      },
      "execution_count": null,
      "outputs": []
    },
    {
      "cell_type": "markdown",
      "source": [
        "Define a simulator for an event run. Return the number of boards completed."
      ],
      "metadata": {
        "id": "_J0BSJIPcEHm"
      }
    },
    {
      "cell_type": "code",
      "source": [],
      "metadata": {
        "id": "NsIkjCz0cHvm"
      },
      "execution_count": null,
      "outputs": []
    },
    {
      "cell_type": "markdown",
      "source": [
        "Parse the board information into a dataframe, and create the `Board` objects."
      ],
      "metadata": {
        "id": "QyAsN2dQ_Nwf"
      }
    },
    {
      "cell_type": "code",
      "source": [
        "parsed = level_info[['Rows', 'Columns', 'BombsOnBoard', 'SuccessesNeededToWin', 'ChestIconIndex']]\n",
        "\n",
        "boards = []\n",
        "for row in parsed.itertuples(index=False):\n",
        "    boards.append(Board([row[0],row[1]],row[2],row[3],row[4]))"
      ],
      "metadata": {
        "id": "qOIaOy8__Q0g"
      },
      "execution_count": null,
      "outputs": []
    },
    {
      "cell_type": "markdown",
      "metadata": {
        "id": "q9ntmj-9sdTa"
      },
      "source": [
        "## Average Scissors Needed per Board"
      ]
    },
    {
      "cell_type": "markdown",
      "metadata": {
        "id": "WuaJ5tYesg6D"
      },
      "source": [
        "## Average Boards Completed in an Event"
      ]
    },
    {
      "cell_type": "markdown",
      "metadata": {
        "id": "jU8CEGZzpLCG"
      },
      "source": [
        "## Notebook Information\n",
        "- Notebook content created by dat\n",
        "- Dataset from rawrzcookie, who also fetched the CSV files here: https://github.com/rawrzcookie/TT2_CSV"
      ]
    }
  ],
  "metadata": {
    "colab": {
      "provenance": [],
      "include_colab_link": true
    },
    "kernelspec": {
      "display_name": "base",
      "language": "python",
      "name": "python3"
    },
    "language_info": {
      "codemirror_mode": {
        "name": "ipython",
        "version": 3
      },
      "file_extension": ".py",
      "mimetype": "text/x-python",
      "name": "python",
      "nbconvert_exporter": "python",
      "pygments_lexer": "ipython3",
      "version": "3.12.4"
    }
  },
  "nbformat": 4,
  "nbformat_minor": 0
}