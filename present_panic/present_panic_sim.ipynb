{
  "cells": [
    {
      "cell_type": "markdown",
      "metadata": {
        "id": "view-in-github",
        "colab_type": "text"
      },
      "source": [
        "<a href=\"https://colab.research.google.com/github/dat810/tt2_things/blob/main/present_panic/present_panic_sim.ipynb\" target=\"_parent\"><img src=\"https://colab.research.google.com/assets/colab-badge.svg\" alt=\"Open In Colab\"/></a>"
      ]
    },
    {
      "cell_type": "markdown",
      "metadata": {
        "id": "LGHANEu8kvAd"
      },
      "source": [
        "# Simulating Games of Present Panic\n",
        "This notebook simulates games of Present Panic in Tap Titans 2. It starts with simulations of a single board, later extending into simulating all levels set in the CSV file with a preset number of scissors.\n",
        "\n",
        "[Skip to the Playground](#playground)\n",
        "\n",
        "## Import Libraries"
      ]
    },
    {
      "cell_type": "code",
      "execution_count": null,
      "metadata": {
        "id": "ZBCZWIjqkvAe"
      },
      "outputs": [],
      "source": [
        "import random\n",
        "import numpy as np\n",
        "import ctypes\n",
        "import matplotlib.pyplot as plt\n",
        "import pandas as pd\n",
        "import multiprocessing as mp"
      ]
    },
    {
      "cell_type": "markdown",
      "metadata": {
        "id": "Cb9-_smekvAf"
      },
      "source": [
        "## Load the CSV File\n",
        "The file `HolidayEventBombGameLevelInfo.csv` contains all the boards for this event, as of version 7.5.0."
      ]
    },
    {
      "cell_type": "code",
      "execution_count": null,
      "metadata": {
        "colab": {
          "base_uri": "https://localhost:8080/",
          "height": 224
        },
        "id": "zR4EYECekvAf",
        "outputId": "d4cf217b-6342-460a-c347-f01f671d5f95"
      },
      "outputs": [
        {
          "output_type": "execute_result",
          "data": {
            "text/plain": [
              "   BoardNumber  BoardSize  Rows  Columns  SuccessesOnBoard  BombsOnBoard  \\\n",
              "0            0          9     3        3                 8             1   \n",
              "1            1          9     3        3                 8             1   \n",
              "2            2          9     3        3                 8             1   \n",
              "3            3          9     3        3                 8             1   \n",
              "4            4         16     4        4                12             4   \n",
              "\n",
              "   SuccessesNeededToWin                                   RewardString  \\\n",
              "0                     3                  HolidayCurrency:3,Equipment:3   \n",
              "1                     3               HolidayCurrency:3,HelperWeapon:1   \n",
              "2                     3                  HolidayCurrency:3,Diamonds:10   \n",
              "3                     3                   HolidayCurrency:3,RaidCard:5   \n",
              "4                     3  HolidayCurrency:6,Equipment:Weapon_Nutcracker   \n",
              "\n",
              "   ChestIconIndex  \n",
              "0               0  \n",
              "1               0  \n",
              "2               0  \n",
              "3               0  \n",
              "4               1  "
            ],
            "text/html": [
              "\n",
              "  <div id=\"df-a535a1ff-70cf-4e89-8ad5-e86872994db0\" class=\"colab-df-container\">\n",
              "    <div>\n",
              "<style scoped>\n",
              "    .dataframe tbody tr th:only-of-type {\n",
              "        vertical-align: middle;\n",
              "    }\n",
              "\n",
              "    .dataframe tbody tr th {\n",
              "        vertical-align: top;\n",
              "    }\n",
              "\n",
              "    .dataframe thead th {\n",
              "        text-align: right;\n",
              "    }\n",
              "</style>\n",
              "<table border=\"1\" class=\"dataframe\">\n",
              "  <thead>\n",
              "    <tr style=\"text-align: right;\">\n",
              "      <th></th>\n",
              "      <th>BoardNumber</th>\n",
              "      <th>BoardSize</th>\n",
              "      <th>Rows</th>\n",
              "      <th>Columns</th>\n",
              "      <th>SuccessesOnBoard</th>\n",
              "      <th>BombsOnBoard</th>\n",
              "      <th>SuccessesNeededToWin</th>\n",
              "      <th>RewardString</th>\n",
              "      <th>ChestIconIndex</th>\n",
              "    </tr>\n",
              "  </thead>\n",
              "  <tbody>\n",
              "    <tr>\n",
              "      <th>0</th>\n",
              "      <td>0</td>\n",
              "      <td>9</td>\n",
              "      <td>3</td>\n",
              "      <td>3</td>\n",
              "      <td>8</td>\n",
              "      <td>1</td>\n",
              "      <td>3</td>\n",
              "      <td>HolidayCurrency:3,Equipment:3</td>\n",
              "      <td>0</td>\n",
              "    </tr>\n",
              "    <tr>\n",
              "      <th>1</th>\n",
              "      <td>1</td>\n",
              "      <td>9</td>\n",
              "      <td>3</td>\n",
              "      <td>3</td>\n",
              "      <td>8</td>\n",
              "      <td>1</td>\n",
              "      <td>3</td>\n",
              "      <td>HolidayCurrency:3,HelperWeapon:1</td>\n",
              "      <td>0</td>\n",
              "    </tr>\n",
              "    <tr>\n",
              "      <th>2</th>\n",
              "      <td>2</td>\n",
              "      <td>9</td>\n",
              "      <td>3</td>\n",
              "      <td>3</td>\n",
              "      <td>8</td>\n",
              "      <td>1</td>\n",
              "      <td>3</td>\n",
              "      <td>HolidayCurrency:3,Diamonds:10</td>\n",
              "      <td>0</td>\n",
              "    </tr>\n",
              "    <tr>\n",
              "      <th>3</th>\n",
              "      <td>3</td>\n",
              "      <td>9</td>\n",
              "      <td>3</td>\n",
              "      <td>3</td>\n",
              "      <td>8</td>\n",
              "      <td>1</td>\n",
              "      <td>3</td>\n",
              "      <td>HolidayCurrency:3,RaidCard:5</td>\n",
              "      <td>0</td>\n",
              "    </tr>\n",
              "    <tr>\n",
              "      <th>4</th>\n",
              "      <td>4</td>\n",
              "      <td>16</td>\n",
              "      <td>4</td>\n",
              "      <td>4</td>\n",
              "      <td>12</td>\n",
              "      <td>4</td>\n",
              "      <td>3</td>\n",
              "      <td>HolidayCurrency:6,Equipment:Weapon_Nutcracker</td>\n",
              "      <td>1</td>\n",
              "    </tr>\n",
              "  </tbody>\n",
              "</table>\n",
              "</div>\n",
              "    <div class=\"colab-df-buttons\">\n",
              "\n",
              "  <div class=\"colab-df-container\">\n",
              "    <button class=\"colab-df-convert\" onclick=\"convertToInteractive('df-a535a1ff-70cf-4e89-8ad5-e86872994db0')\"\n",
              "            title=\"Convert this dataframe to an interactive table.\"\n",
              "            style=\"display:none;\">\n",
              "\n",
              "  <svg xmlns=\"http://www.w3.org/2000/svg\" height=\"24px\" viewBox=\"0 -960 960 960\">\n",
              "    <path d=\"M120-120v-720h720v720H120Zm60-500h600v-160H180v160Zm220 220h160v-160H400v160Zm0 220h160v-160H400v160ZM180-400h160v-160H180v160Zm440 0h160v-160H620v160ZM180-180h160v-160H180v160Zm440 0h160v-160H620v160Z\"/>\n",
              "  </svg>\n",
              "    </button>\n",
              "\n",
              "  <style>\n",
              "    .colab-df-container {\n",
              "      display:flex;\n",
              "      gap: 12px;\n",
              "    }\n",
              "\n",
              "    .colab-df-convert {\n",
              "      background-color: #E8F0FE;\n",
              "      border: none;\n",
              "      border-radius: 50%;\n",
              "      cursor: pointer;\n",
              "      display: none;\n",
              "      fill: #1967D2;\n",
              "      height: 32px;\n",
              "      padding: 0 0 0 0;\n",
              "      width: 32px;\n",
              "    }\n",
              "\n",
              "    .colab-df-convert:hover {\n",
              "      background-color: #E2EBFA;\n",
              "      box-shadow: 0px 1px 2px rgba(60, 64, 67, 0.3), 0px 1px 3px 1px rgba(60, 64, 67, 0.15);\n",
              "      fill: #174EA6;\n",
              "    }\n",
              "\n",
              "    .colab-df-buttons div {\n",
              "      margin-bottom: 4px;\n",
              "    }\n",
              "\n",
              "    [theme=dark] .colab-df-convert {\n",
              "      background-color: #3B4455;\n",
              "      fill: #D2E3FC;\n",
              "    }\n",
              "\n",
              "    [theme=dark] .colab-df-convert:hover {\n",
              "      background-color: #434B5C;\n",
              "      box-shadow: 0px 1px 3px 1px rgba(0, 0, 0, 0.15);\n",
              "      filter: drop-shadow(0px 1px 2px rgba(0, 0, 0, 0.3));\n",
              "      fill: #FFFFFF;\n",
              "    }\n",
              "  </style>\n",
              "\n",
              "    <script>\n",
              "      const buttonEl =\n",
              "        document.querySelector('#df-a535a1ff-70cf-4e89-8ad5-e86872994db0 button.colab-df-convert');\n",
              "      buttonEl.style.display =\n",
              "        google.colab.kernel.accessAllowed ? 'block' : 'none';\n",
              "\n",
              "      async function convertToInteractive(key) {\n",
              "        const element = document.querySelector('#df-a535a1ff-70cf-4e89-8ad5-e86872994db0');\n",
              "        const dataTable =\n",
              "          await google.colab.kernel.invokeFunction('convertToInteractive',\n",
              "                                                    [key], {});\n",
              "        if (!dataTable) return;\n",
              "\n",
              "        const docLinkHtml = 'Like what you see? Visit the ' +\n",
              "          '<a target=\"_blank\" href=https://colab.research.google.com/notebooks/data_table.ipynb>data table notebook</a>'\n",
              "          + ' to learn more about interactive tables.';\n",
              "        element.innerHTML = '';\n",
              "        dataTable['output_type'] = 'display_data';\n",
              "        await google.colab.output.renderOutput(dataTable, element);\n",
              "        const docLink = document.createElement('div');\n",
              "        docLink.innerHTML = docLinkHtml;\n",
              "        element.appendChild(docLink);\n",
              "      }\n",
              "    </script>\n",
              "  </div>\n",
              "\n",
              "\n",
              "<div id=\"df-97df7a49-ae9b-4108-8c26-7e2b8a3d42e7\">\n",
              "  <button class=\"colab-df-quickchart\" onclick=\"quickchart('df-97df7a49-ae9b-4108-8c26-7e2b8a3d42e7')\"\n",
              "            title=\"Suggest charts\"\n",
              "            style=\"display:none;\">\n",
              "\n",
              "<svg xmlns=\"http://www.w3.org/2000/svg\" height=\"24px\"viewBox=\"0 0 24 24\"\n",
              "     width=\"24px\">\n",
              "    <g>\n",
              "        <path d=\"M19 3H5c-1.1 0-2 .9-2 2v14c0 1.1.9 2 2 2h14c1.1 0 2-.9 2-2V5c0-1.1-.9-2-2-2zM9 17H7v-7h2v7zm4 0h-2V7h2v10zm4 0h-2v-4h2v4z\"/>\n",
              "    </g>\n",
              "</svg>\n",
              "  </button>\n",
              "\n",
              "<style>\n",
              "  .colab-df-quickchart {\n",
              "      --bg-color: #E8F0FE;\n",
              "      --fill-color: #1967D2;\n",
              "      --hover-bg-color: #E2EBFA;\n",
              "      --hover-fill-color: #174EA6;\n",
              "      --disabled-fill-color: #AAA;\n",
              "      --disabled-bg-color: #DDD;\n",
              "  }\n",
              "\n",
              "  [theme=dark] .colab-df-quickchart {\n",
              "      --bg-color: #3B4455;\n",
              "      --fill-color: #D2E3FC;\n",
              "      --hover-bg-color: #434B5C;\n",
              "      --hover-fill-color: #FFFFFF;\n",
              "      --disabled-bg-color: #3B4455;\n",
              "      --disabled-fill-color: #666;\n",
              "  }\n",
              "\n",
              "  .colab-df-quickchart {\n",
              "    background-color: var(--bg-color);\n",
              "    border: none;\n",
              "    border-radius: 50%;\n",
              "    cursor: pointer;\n",
              "    display: none;\n",
              "    fill: var(--fill-color);\n",
              "    height: 32px;\n",
              "    padding: 0;\n",
              "    width: 32px;\n",
              "  }\n",
              "\n",
              "  .colab-df-quickchart:hover {\n",
              "    background-color: var(--hover-bg-color);\n",
              "    box-shadow: 0 1px 2px rgba(60, 64, 67, 0.3), 0 1px 3px 1px rgba(60, 64, 67, 0.15);\n",
              "    fill: var(--button-hover-fill-color);\n",
              "  }\n",
              "\n",
              "  .colab-df-quickchart-complete:disabled,\n",
              "  .colab-df-quickchart-complete:disabled:hover {\n",
              "    background-color: var(--disabled-bg-color);\n",
              "    fill: var(--disabled-fill-color);\n",
              "    box-shadow: none;\n",
              "  }\n",
              "\n",
              "  .colab-df-spinner {\n",
              "    border: 2px solid var(--fill-color);\n",
              "    border-color: transparent;\n",
              "    border-bottom-color: var(--fill-color);\n",
              "    animation:\n",
              "      spin 1s steps(1) infinite;\n",
              "  }\n",
              "\n",
              "  @keyframes spin {\n",
              "    0% {\n",
              "      border-color: transparent;\n",
              "      border-bottom-color: var(--fill-color);\n",
              "      border-left-color: var(--fill-color);\n",
              "    }\n",
              "    20% {\n",
              "      border-color: transparent;\n",
              "      border-left-color: var(--fill-color);\n",
              "      border-top-color: var(--fill-color);\n",
              "    }\n",
              "    30% {\n",
              "      border-color: transparent;\n",
              "      border-left-color: var(--fill-color);\n",
              "      border-top-color: var(--fill-color);\n",
              "      border-right-color: var(--fill-color);\n",
              "    }\n",
              "    40% {\n",
              "      border-color: transparent;\n",
              "      border-right-color: var(--fill-color);\n",
              "      border-top-color: var(--fill-color);\n",
              "    }\n",
              "    60% {\n",
              "      border-color: transparent;\n",
              "      border-right-color: var(--fill-color);\n",
              "    }\n",
              "    80% {\n",
              "      border-color: transparent;\n",
              "      border-right-color: var(--fill-color);\n",
              "      border-bottom-color: var(--fill-color);\n",
              "    }\n",
              "    90% {\n",
              "      border-color: transparent;\n",
              "      border-bottom-color: var(--fill-color);\n",
              "    }\n",
              "  }\n",
              "</style>\n",
              "\n",
              "  <script>\n",
              "    async function quickchart(key) {\n",
              "      const quickchartButtonEl =\n",
              "        document.querySelector('#' + key + ' button');\n",
              "      quickchartButtonEl.disabled = true;  // To prevent multiple clicks.\n",
              "      quickchartButtonEl.classList.add('colab-df-spinner');\n",
              "      try {\n",
              "        const charts = await google.colab.kernel.invokeFunction(\n",
              "            'suggestCharts', [key], {});\n",
              "      } catch (error) {\n",
              "        console.error('Error during call to suggestCharts:', error);\n",
              "      }\n",
              "      quickchartButtonEl.classList.remove('colab-df-spinner');\n",
              "      quickchartButtonEl.classList.add('colab-df-quickchart-complete');\n",
              "    }\n",
              "    (() => {\n",
              "      let quickchartButtonEl =\n",
              "        document.querySelector('#df-97df7a49-ae9b-4108-8c26-7e2b8a3d42e7 button');\n",
              "      quickchartButtonEl.style.display =\n",
              "        google.colab.kernel.accessAllowed ? 'block' : 'none';\n",
              "    })();\n",
              "  </script>\n",
              "</div>\n",
              "\n",
              "    </div>\n",
              "  </div>\n"
            ],
            "application/vnd.google.colaboratory.intrinsic+json": {
              "type": "dataframe",
              "variable_name": "level_info",
              "summary": "{\n  \"name\": \"level_info\",\n  \"rows\": 1300,\n  \"fields\": [\n    {\n      \"column\": \"BoardNumber\",\n      \"properties\": {\n        \"dtype\": \"number\",\n        \"std\": 375,\n        \"min\": 0,\n        \"max\": 1299,\n        \"num_unique_values\": 1300,\n        \"samples\": [\n          478,\n          721,\n          312\n        ],\n        \"semantic_type\": \"\",\n        \"description\": \"\"\n      }\n    },\n    {\n      \"column\": \"BoardSize\",\n      \"properties\": {\n        \"dtype\": \"number\",\n        \"std\": 8,\n        \"min\": 9,\n        \"max\": 36,\n        \"num_unique_values\": 8,\n        \"samples\": [\n          16,\n          30,\n          9\n        ],\n        \"semantic_type\": \"\",\n        \"description\": \"\"\n      }\n    },\n    {\n      \"column\": \"Rows\",\n      \"properties\": {\n        \"dtype\": \"number\",\n        \"std\": 0,\n        \"min\": 3,\n        \"max\": 6,\n        \"num_unique_values\": 4,\n        \"samples\": [\n          4,\n          6,\n          3\n        ],\n        \"semantic_type\": \"\",\n        \"description\": \"\"\n      }\n    },\n    {\n      \"column\": \"Columns\",\n      \"properties\": {\n        \"dtype\": \"number\",\n        \"std\": 1,\n        \"min\": 3,\n        \"max\": 6,\n        \"num_unique_values\": 4,\n        \"samples\": [\n          4,\n          6,\n          3\n        ],\n        \"semantic_type\": \"\",\n        \"description\": \"\"\n      }\n    },\n    {\n      \"column\": \"SuccessesOnBoard\",\n      \"properties\": {\n        \"dtype\": \"number\",\n        \"std\": 4,\n        \"min\": 7,\n        \"max\": 25,\n        \"num_unique_values\": 18,\n        \"samples\": [\n          8,\n          12,\n          15\n        ],\n        \"semantic_type\": \"\",\n        \"description\": \"\"\n      }\n    },\n    {\n      \"column\": \"BombsOnBoard\",\n      \"properties\": {\n        \"dtype\": \"number\",\n        \"std\": 4,\n        \"min\": 1,\n        \"max\": 21,\n        \"num_unique_values\": 21,\n        \"samples\": [\n          1,\n          18,\n          17\n        ],\n        \"semantic_type\": \"\",\n        \"description\": \"\"\n      }\n    },\n    {\n      \"column\": \"SuccessesNeededToWin\",\n      \"properties\": {\n        \"dtype\": \"number\",\n        \"std\": 4,\n        \"min\": 3,\n        \"max\": 16,\n        \"num_unique_values\": 14,\n        \"samples\": [\n          12,\n          14,\n          3\n        ],\n        \"semantic_type\": \"\",\n        \"description\": \"\"\n      }\n    },\n    {\n      \"column\": \"RewardString\",\n      \"properties\": {\n        \"dtype\": \"category\",\n        \"num_unique_values\": 96,\n        \"samples\": [\n          \"HolidayCurrency:75,Diamonds:250\",\n          \"HolidayCurrency:75,RaidWildcard:50\",\n          \"HolidayCurrency:25,PetsLvl1:1\"\n        ],\n        \"semantic_type\": \"\",\n        \"description\": \"\"\n      }\n    },\n    {\n      \"column\": \"ChestIconIndex\",\n      \"properties\": {\n        \"dtype\": \"number\",\n        \"std\": 0,\n        \"min\": 0,\n        \"max\": 2,\n        \"num_unique_values\": 3,\n        \"samples\": [\n          0,\n          1,\n          2\n        ],\n        \"semantic_type\": \"\",\n        \"description\": \"\"\n      }\n    }\n  ]\n}"
            }
          },
          "metadata": {},
          "execution_count": 2
        }
      ],
      "source": [
        "level_info = pd.read_csv('HolidayEventBombGameLevelInfo.csv')\n",
        "# level_info[level_info['ChestIconIndex'] == 2]\n",
        "level_info.head(5)"
      ]
    },
    {
      "cell_type": "markdown",
      "metadata": {
        "id": "ZsHXjbsAkvAi"
      },
      "source": [
        "## Set up a Class that Defines a Board"
      ]
    },
    {
      "cell_type": "code",
      "execution_count": null,
      "metadata": {
        "id": "D9dxksKhkvAi"
      },
      "outputs": [],
      "source": [
        "class Board:\n",
        "    def __init__(self,dim,trolls,target,diff_idx):\n",
        "        self.dim = dim\n",
        "        self.trolls = trolls\n",
        "        self.target = target\n",
        "        self.presents = self.dim[0]*self.dim[1]\n",
        "\n",
        "        idx_to_diff = {\n",
        "            0: 'Easy', 1: 'Hard', 2: 'Impossible'\n",
        "        }\n",
        "        self.diff = idx_to_diff.get(diff_idx)\n",
        "\n",
        "\n",
        "    def __str__(self):\n",
        "        return (\n",
        "            f\"Board size: {self.dim[0]}x{self.dim[1]}\\n\"\n",
        "            f\"Trolls count: {self.trolls}\\n\"\n",
        "            f\"Streak needed: {self.target}\\n\"\n",
        "            f\"Difficulty: {self.diff}\"\n",
        "        )"
      ]
    },
    {
      "cell_type": "code",
      "execution_count": null,
      "metadata": {
        "colab": {
          "base_uri": "https://localhost:8080/"
        },
        "id": "siE2EzTbkvAj",
        "outputId": "90f6c933-6833-4aaf-bec8-26174446521c"
      },
      "outputs": [
        {
          "output_type": "stream",
          "name": "stdout",
          "text": [
            "Board size: 3x3\n",
            "Trolls count: 1\n",
            "Streak needed: 3\n",
            "Difficulty: Easy\n"
          ]
        }
      ],
      "source": [
        "b = Board([3,3], 1, 3, 0)\n",
        "print(b)"
      ]
    },
    {
      "cell_type": "markdown",
      "metadata": {
        "id": "8CVJdFnBkvAj"
      },
      "source": [
        "Start with a basic implementation of a simulation of a board in Python."
      ]
    },
    {
      "cell_type": "code",
      "execution_count": null,
      "metadata": {
        "id": "a8yU2JIUkvAj"
      },
      "outputs": [],
      "source": [
        "def present_panic_sim_v1(p, t, target):\n",
        "    '''\n",
        "    Simulate a board in Present Panic.\n",
        "\n",
        "    Parameters\n",
        "    --\n",
        "    p : int\n",
        "        number of presents\n",
        "    t : int\n",
        "        number of trolls\n",
        "    target : int\n",
        "        correct presents to open\n",
        "\n",
        "    Returns\n",
        "    --\n",
        "    int\n",
        "        scissors needed to finish the board\n",
        "    '''\n",
        "    g = p - t\n",
        "    total_scissors = 0\n",
        "    streak = 0\n",
        "    board = ['troll']*t + ['ginger']*g\n",
        "    random.shuffle(board)\n",
        "\n",
        "    while streak < target:\n",
        "        draw = random.choice(board)\n",
        "        total_scissors += 1\n",
        "\n",
        "        if draw == 'ginger':\n",
        "            streak += 1\n",
        "            board.remove('ginger')\n",
        "        else:\n",
        "            streak = 0\n",
        "            t -= 1\n",
        "            board = ['troll']*t + ['ginger']*g\n",
        "            random.shuffle(board)\n",
        "\n",
        "    return total_scissors"
      ]
    },
    {
      "cell_type": "code",
      "execution_count": null,
      "metadata": {
        "colab": {
          "base_uri": "https://localhost:8080/"
        },
        "id": "TYmiuCEokvAj",
        "outputId": "195ffb64-a7d3-4635-e669-2098b4a412ea"
      },
      "outputs": [
        {
          "output_type": "execute_result",
          "data": {
            "text/plain": [
              "3"
            ]
          },
          "metadata": {},
          "execution_count": 6
        }
      ],
      "source": [
        "present_panic_sim_v1(12, 2, 3)"
      ]
    },
    {
      "cell_type": "markdown",
      "metadata": {
        "id": "_YiBkMgbkvAj"
      },
      "source": [
        "Since multiple simulations can take up lots of time, below is the above simulation's C equivalent."
      ]
    },
    {
      "cell_type": "code",
      "execution_count": null,
      "metadata": {
        "colab": {
          "base_uri": "https://localhost:8080/"
        },
        "id": "YR9_vHiQkvAj",
        "outputId": "49e58ca9-8af5-44f5-a7ee-15d7737263cc"
      },
      "outputs": [
        {
          "output_type": "stream",
          "name": "stdout",
          "text": [
            "Writing present_panic_sim.c\n"
          ]
        }
      ],
      "source": [
        "%%writefile present_panic_sim.c\n",
        "#include <stdlib.h>\n",
        "#include <time.h>\n",
        "\n",
        "int present_panic_sim (int p, int t, int target) {\n",
        "    int g = p - t;\n",
        "    int total_scissors = 0;\n",
        "    int streak = 0;\n",
        "    int *board = (int *)malloc(p*sizeof(int));\n",
        "    int i;\n",
        "\n",
        "    // Initialize the board: 0 for trolls, 1 for ginger\n",
        "    for (i=0;i<t;i++) {\n",
        "        board[i] = 0; // troll\n",
        "    }\n",
        "    for (i=t;i<p;i++) {\n",
        "        board[i] = 1; // ginger\n",
        "    }\n",
        "\n",
        "    srand((unsigned int)time(NULL)+rand());\n",
        "\n",
        "    while (streak < target) {\n",
        "        int index = rand() % p;\n",
        "        total_scissors++;\n",
        "\n",
        "        if (board[index] == 1) { // ginger\n",
        "            streak++;\n",
        "            board[index] = board[--p]; // Remove ginger and shrink board\n",
        "        } else { // troll\n",
        "            streak = 0;\n",
        "            t--;\n",
        "            p = t + g; // Reset board\n",
        "            for (i = 0; i < t; i++) board[i] = 0; // troll\n",
        "            for (i = t; i < p; i++) board[i] = 1; // ginger\n",
        "        }\n",
        "    }\n",
        "\n",
        "    free(board);\n",
        "    return total_scissors;\n",
        "}"
      ]
    },
    {
      "cell_type": "code",
      "execution_count": null,
      "metadata": {
        "id": "6gNitnA5kvAk"
      },
      "outputs": [],
      "source": [
        "!gcc -shared -o present_panic_sim.so -fPIC present_panic_sim.c"
      ]
    },
    {
      "cell_type": "markdown",
      "metadata": {
        "id": "gQr49Y4JkvAk"
      },
      "source": [
        "Integrate the function using `ctypes` so that it can be used in a Python environment."
      ]
    },
    {
      "cell_type": "code",
      "execution_count": null,
      "metadata": {
        "id": "x4A0bLF8kvAk"
      },
      "outputs": [],
      "source": [
        "# Load the compiled C shared library\n",
        "lib = ctypes.CDLL('./present_panic_sim.so')\n",
        "\n",
        "# Define the argument and return types\n",
        "lib.present_panic_sim.argtypes = [ctypes.c_int, ctypes.c_int, ctypes.c_int]\n",
        "lib.present_panic_sim.restype = ctypes.c_int\n",
        "\n",
        "def present_panic_sim_c(p,t,target):\n",
        "    \"\"\"\n",
        "    Wrapper for the C implementation of Present Panic simulation.\n",
        "    Simulates a board in Present Panic.\n",
        "\n",
        "    Parameters\n",
        "    --\n",
        "    p : int\n",
        "        number of presents\n",
        "    t : int\n",
        "        number of trolls\n",
        "    target : int\n",
        "        correct presents to open\n",
        "\n",
        "    Returns\n",
        "    --\n",
        "    int\n",
        "        scissors needed to finish the board\n",
        "    \"\"\"\n",
        "    return lib.present_panic_sim(p,t,target)"
      ]
    },
    {
      "cell_type": "code",
      "execution_count": null,
      "metadata": {
        "colab": {
          "base_uri": "https://localhost:8080/"
        },
        "id": "_tyv4Ei2kvAk",
        "outputId": "d1d924cb-85ab-4a79-849e-9c0af421fb7c"
      },
      "outputs": [
        {
          "output_type": "execute_result",
          "data": {
            "text/plain": [
              "3"
            ]
          },
          "metadata": {},
          "execution_count": 10
        }
      ],
      "source": [
        "present_panic_sim_c(12,2,3)"
      ]
    },
    {
      "cell_type": "markdown",
      "metadata": {
        "id": "jihdmIHXkvAk"
      },
      "source": [
        "Writing the simulator for one single board. The outer function is in Python to run the simulation, while each individual simulation is run in C for performance."
      ]
    },
    {
      "cell_type": "code",
      "execution_count": null,
      "metadata": {
        "id": "yglLGmjEkvAk"
      },
      "outputs": [],
      "source": [
        "def present_panic_sim_runner(n,p,t,target):\n",
        "    results = np.zeros(n)\n",
        "    for i in range(n):\n",
        "        results[i] = present_panic_sim_c(p,t,target)\n",
        "    return results"
      ]
    },
    {
      "cell_type": "markdown",
      "metadata": {
        "id": "gUlmJ1hnkvAk"
      },
      "source": [
        "## Open these Presents!\n",
        "Start with a simulation for an easy board."
      ]
    },
    {
      "cell_type": "code",
      "execution_count": null,
      "metadata": {
        "colab": {
          "base_uri": "https://localhost:8080/",
          "height": 207
        },
        "id": "s-IUhxU4kvAk",
        "outputId": "d2b70e5d-33a9-4c31-8f54-f9582e194bd4"
      },
      "outputs": [
        {
          "output_type": "execute_result",
          "data": {
            "text/plain": [
              "3.0    667032\n",
              "4.0    111814\n",
              "5.0    111231\n",
              "6.0    109923\n",
              "dtype: int64"
            ],
            "text/html": [
              "<div>\n",
              "<style scoped>\n",
              "    .dataframe tbody tr th:only-of-type {\n",
              "        vertical-align: middle;\n",
              "    }\n",
              "\n",
              "    .dataframe tbody tr th {\n",
              "        vertical-align: top;\n",
              "    }\n",
              "\n",
              "    .dataframe thead th {\n",
              "        text-align: right;\n",
              "    }\n",
              "</style>\n",
              "<table border=\"1\" class=\"dataframe\">\n",
              "  <thead>\n",
              "    <tr style=\"text-align: right;\">\n",
              "      <th></th>\n",
              "      <th>0</th>\n",
              "    </tr>\n",
              "  </thead>\n",
              "  <tbody>\n",
              "    <tr>\n",
              "      <th>3.0</th>\n",
              "      <td>667032</td>\n",
              "    </tr>\n",
              "    <tr>\n",
              "      <th>4.0</th>\n",
              "      <td>111814</td>\n",
              "    </tr>\n",
              "    <tr>\n",
              "      <th>5.0</th>\n",
              "      <td>111231</td>\n",
              "    </tr>\n",
              "    <tr>\n",
              "      <th>6.0</th>\n",
              "      <td>109923</td>\n",
              "    </tr>\n",
              "  </tbody>\n",
              "</table>\n",
              "</div><br><label><b>dtype:</b> int64</label>"
            ]
          },
          "metadata": {},
          "execution_count": 12
        }
      ],
      "source": [
        "n = 1000000\n",
        "# Set up some sample boards. All are the first occurences of their respective difficulty.\n",
        "easy = Board([3,3], 1, 3, 0)\n",
        "hard = Board([4,4], 4, 3, 1)\n",
        "impossible = Board([5,5], 6, 4, 2)\n",
        "\n",
        "sim1 = present_panic_sim_runner(n,easy.presents,easy.trolls,easy.target)\n",
        "\n",
        "unique, counts = np.unique(sim1, return_counts=True)\n",
        "summary1 = dict(zip(unique, counts))\n",
        "df1 = pd.Series(summary1)\n",
        "df1"
      ]
    },
    {
      "cell_type": "markdown",
      "metadata": {
        "id": "W05K17kbkvAk"
      },
      "source": [
        "Plot the results."
      ]
    },
    {
      "cell_type": "code",
      "execution_count": null,
      "metadata": {
        "colab": {
          "base_uri": "https://localhost:8080/",
          "height": 564
        },
        "id": "tKq0Tq0CkvAk",
        "outputId": "ddfc9733-e702-4a06-e5a1-1c3946c99b44"
      },
      "outputs": [
        {
          "output_type": "display_data",
          "data": {
            "text/plain": [
              "<Figure size 600x600 with 1 Axes>"
            ],
            "image/png": "[encoded data removed]"
          },
          "metadata": {}
        }
      ],
      "source": [
        "# Normalize the categorical numbers to map them to a colormap\n",
        "norm = plt.Normalize(min(unique), max(unique))  # Normalize to colormap range\n",
        "colormap = plt.cm.viridis  # Choose a colormap\n",
        "\n",
        "# Assign colors based on the normalized categories\n",
        "colors = colormap(norm(unique))\n",
        "\n",
        "plt.figure(figsize=(6,6))\n",
        "# ax1 = plt.hist(sim1)\n",
        "ax1 = plt.bar(unique, height=counts, color=colors)\n",
        "plt.title(\n",
        "    f\"Scissors needed to get {easy.target} correct presents, on a \"\n",
        "    f\"{easy.dim[0]}x{easy.dim[1]} board, with {easy.trolls} troll\"\n",
        "    f\"{'' if easy.trolls == 1 else 's'} \"\n",
        "    f\"({n} simulations)\"\n",
        ")\n",
        "plt.xlabel('Scissors')\n",
        "plt.ylabel('Frequency')\n",
        "plt.show()"
      ]
    },
    {
      "cell_type": "code",
      "execution_count": null,
      "metadata": {
        "colab": {
          "base_uri": "https://localhost:8080/",
          "height": 495
        },
        "id": "x9NVSG-PkvAl",
        "outputId": "189caa52-cb55-4333-a257-c63753555391"
      },
      "outputs": [
        {
          "output_type": "display_data",
          "data": {
            "text/plain": [
              "<Figure size 640x480 with 1 Axes>"
            ],
            "image/png": "[encoded data removed]"
          },
          "metadata": {}
        }
      ],
      "source": [
        "plt.pie(counts, labels=unique, autopct='%1.1f%%', startangle=90, radius=1.5)\n",
        "plt.show()"
      ]
    },
    {
      "cell_type": "markdown",
      "metadata": {
        "id": "HzLYYTyOkvAl"
      },
      "source": [
        "Similar thing for the hard board."
      ]
    },
    {
      "cell_type": "code",
      "execution_count": null,
      "metadata": {
        "colab": {
          "base_uri": "https://localhost:8080/",
          "height": 486
        },
        "id": "f31DZLOEkvAl",
        "outputId": "5112a946-f16e-4bb7-b80d-1820ab4fab66"
      },
      "outputs": [
        {
          "output_type": "execute_result",
          "data": {
            "text/plain": [
              "3.0     393445\n",
              "4.0     121533\n",
              "5.0     126494\n",
              "6.0     130717\n",
              "7.0      76028\n",
              "8.0      61743\n",
              "9.0      42411\n",
              "10.0     22531\n",
              "11.0     13764\n",
              "12.0      7283\n",
              "13.0      3052\n",
              "14.0       787\n",
              "15.0       212\n",
              "dtype: int64"
            ],
            "text/html": [
              "<div>\n",
              "<style scoped>\n",
              "    .dataframe tbody tr th:only-of-type {\n",
              "        vertical-align: middle;\n",
              "    }\n",
              "\n",
              "    .dataframe tbody tr th {\n",
              "        vertical-align: top;\n",
              "    }\n",
              "\n",
              "    .dataframe thead th {\n",
              "        text-align: right;\n",
              "    }\n",
              "</style>\n",
              "<table border=\"1\" class=\"dataframe\">\n",
              "  <thead>\n",
              "    <tr style=\"text-align: right;\">\n",
              "      <th></th>\n",
              "      <th>0</th>\n",
              "    </tr>\n",
              "  </thead>\n",
              "  <tbody>\n",
              "    <tr>\n",
              "      <th>3.0</th>\n",
              "      <td>393445</td>\n",
              "    </tr>\n",
              "    <tr>\n",
              "      <th>4.0</th>\n",
              "      <td>121533</td>\n",
              "    </tr>\n",
              "    <tr>\n",
              "      <th>5.0</th>\n",
              "      <td>126494</td>\n",
              "    </tr>\n",
              "    <tr>\n",
              "      <th>6.0</th>\n",
              "      <td>130717</td>\n",
              "    </tr>\n",
              "    <tr>\n",
              "      <th>7.0</th>\n",
              "      <td>76028</td>\n",
              "    </tr>\n",
              "    <tr>\n",
              "      <th>8.0</th>\n",
              "      <td>61743</td>\n",
              "    </tr>\n",
              "    <tr>\n",
              "      <th>9.0</th>\n",
              "      <td>42411</td>\n",
              "    </tr>\n",
              "    <tr>\n",
              "      <th>10.0</th>\n",
              "      <td>22531</td>\n",
              "    </tr>\n",
              "    <tr>\n",
              "      <th>11.0</th>\n",
              "      <td>13764</td>\n",
              "    </tr>\n",
              "    <tr>\n",
              "      <th>12.0</th>\n",
              "      <td>7283</td>\n",
              "    </tr>\n",
              "    <tr>\n",
              "      <th>13.0</th>\n",
              "      <td>3052</td>\n",
              "    </tr>\n",
              "    <tr>\n",
              "      <th>14.0</th>\n",
              "      <td>787</td>\n",
              "    </tr>\n",
              "    <tr>\n",
              "      <th>15.0</th>\n",
              "      <td>212</td>\n",
              "    </tr>\n",
              "  </tbody>\n",
              "</table>\n",
              "</div><br><label><b>dtype:</b> int64</label>"
            ]
          },
          "metadata": {},
          "execution_count": 15
        }
      ],
      "source": [
        "sim2 = present_panic_sim_runner(n,hard.presents,hard.trolls,hard.target)\n",
        "\n",
        "unique, counts = np.unique(sim2, return_counts=True)\n",
        "summary2 = dict(zip(unique, counts))\n",
        "df2 = pd.Series(summary2)\n",
        "df2"
      ]
    },
    {
      "cell_type": "code",
      "execution_count": null,
      "metadata": {
        "colab": {
          "base_uri": "https://localhost:8080/",
          "height": 564
        },
        "id": "v-4U22ItkvAl",
        "outputId": "8608aa13-6c55-4868-9282-e33e7282a371"
      },
      "outputs": [
        {
          "output_type": "display_data",
          "data": {
            "text/plain": [
              "<Figure size 1000x600 with 1 Axes>"
            ],
            "image/png": "[encoded data removed]"
          },
          "metadata": {}
        }
      ],
      "source": [
        "norm = plt.Normalize(min(unique), max(unique))\n",
        "colormap = plt.cm.viridis\n",
        "\n",
        "colors = colormap(norm(unique))\n",
        "\n",
        "plt.figure(figsize=(10,6))\n",
        "ax1 = plt.bar(unique, height=counts, color=colors)\n",
        "plt.title(\n",
        "    f\"Scissors needed to get {hard.target} correct presents, on a \"\n",
        "    f\"{hard.dim[0]}x{hard.dim[1]} board, with {hard.trolls} troll\"\n",
        "    f\"{'' if hard.trolls == 1 else 's'} \"\n",
        "    f\"({n} simulations)\"\n",
        ")\n",
        "plt.xlabel('Scissors')\n",
        "plt.ylabel('Frequency')\n",
        "plt.show()"
      ]
    },
    {
      "cell_type": "code",
      "execution_count": null,
      "metadata": {
        "colab": {
          "base_uri": "https://localhost:8080/",
          "height": 528
        },
        "id": "uCMuJFOFkvAl",
        "outputId": "5213933c-308f-4b68-c28c-3718dbd62f47"
      },
      "outputs": [
        {
          "output_type": "display_data",
          "data": {
            "text/plain": [
              "<Figure size 640x480 with 1 Axes>"
            ],
            "image/png": "[encoded data removed]"
          },
          "metadata": {}
        }
      ],
      "source": [
        "plt.pie(counts, labels=unique, autopct='%1.1f%%', startangle=90, radius=1.5)\n",
        "plt.show()"
      ]
    },
    {
      "cell_type": "markdown",
      "metadata": {
        "id": "8gHMlFFgkvAl"
      },
      "source": [
        "## Simulating the Entire Event\n",
        "Now time to simulate the whole event. First, the CSV file is parsed to only include relevant columns."
      ]
    },
    {
      "cell_type": "code",
      "execution_count": null,
      "metadata": {
        "colab": {
          "base_uri": "https://localhost:8080/",
          "height": 204
        },
        "id": "zJwgxn0GkvAl",
        "outputId": "637ddfa9-9962-499e-dd61-2e7568b9b499"
      },
      "outputs": [
        {
          "output_type": "execute_result",
          "data": {
            "text/plain": [
              "   Rows  Columns  BombsOnBoard  SuccessesNeededToWin  ChestIconIndex\n",
              "0     3        3             1                     3               0\n",
              "1     3        3             1                     3               0\n",
              "2     3        3             1                     3               0\n",
              "3     3        3             1                     3               0\n",
              "4     4        4             4                     3               1"
            ],
            "text/html": [
              "\n",
              "  <div id=\"df-c2f59d81-49e0-454a-998b-5b446114c93f\" class=\"colab-df-container\">\n",
              "    <div>\n",
              "<style scoped>\n",
              "    .dataframe tbody tr th:only-of-type {\n",
              "        vertical-align: middle;\n",
              "    }\n",
              "\n",
              "    .dataframe tbody tr th {\n",
              "        vertical-align: top;\n",
              "    }\n",
              "\n",
              "    .dataframe thead th {\n",
              "        text-align: right;\n",
              "    }\n",
              "</style>\n",
              "<table border=\"1\" class=\"dataframe\">\n",
              "  <thead>\n",
              "    <tr style=\"text-align: right;\">\n",
              "      <th></th>\n",
              "      <th>Rows</th>\n",
              "      <th>Columns</th>\n",
              "      <th>BombsOnBoard</th>\n",
              "      <th>SuccessesNeededToWin</th>\n",
              "      <th>ChestIconIndex</th>\n",
              "    </tr>\n",
              "  </thead>\n",
              "  <tbody>\n",
              "    <tr>\n",
              "      <th>0</th>\n",
              "      <td>3</td>\n",
              "      <td>3</td>\n",
              "      <td>1</td>\n",
              "      <td>3</td>\n",
              "      <td>0</td>\n",
              "    </tr>\n",
              "    <tr>\n",
              "      <th>1</th>\n",
              "      <td>3</td>\n",
              "      <td>3</td>\n",
              "      <td>1</td>\n",
              "      <td>3</td>\n",
              "      <td>0</td>\n",
              "    </tr>\n",
              "    <tr>\n",
              "      <th>2</th>\n",
              "      <td>3</td>\n",
              "      <td>3</td>\n",
              "      <td>1</td>\n",
              "      <td>3</td>\n",
              "      <td>0</td>\n",
              "    </tr>\n",
              "    <tr>\n",
              "      <th>3</th>\n",
              "      <td>3</td>\n",
              "      <td>3</td>\n",
              "      <td>1</td>\n",
              "      <td>3</td>\n",
              "      <td>0</td>\n",
              "    </tr>\n",
              "    <tr>\n",
              "      <th>4</th>\n",
              "      <td>4</td>\n",
              "      <td>4</td>\n",
              "      <td>4</td>\n",
              "      <td>3</td>\n",
              "      <td>1</td>\n",
              "    </tr>\n",
              "  </tbody>\n",
              "</table>\n",
              "</div>\n",
              "    <div class=\"colab-df-buttons\">\n",
              "\n",
              "  <div class=\"colab-df-container\">\n",
              "    <button class=\"colab-df-convert\" onclick=\"convertToInteractive('df-c2f59d81-49e0-454a-998b-5b446114c93f')\"\n",
              "            title=\"Convert this dataframe to an interactive table.\"\n",
              "            style=\"display:none;\">\n",
              "\n",
              "  <svg xmlns=\"http://www.w3.org/2000/svg\" height=\"24px\" viewBox=\"0 -960 960 960\">\n",
              "    <path d=\"M120-120v-720h720v720H120Zm60-500h600v-160H180v160Zm220 220h160v-160H400v160Zm0 220h160v-160H400v160ZM180-400h160v-160H180v160Zm440 0h160v-160H620v160ZM180-180h160v-160H180v160Zm440 0h160v-160H620v160Z\"/>\n",
              "  </svg>\n",
              "    </button>\n",
              "\n",
              "  <style>\n",
              "    .colab-df-container {\n",
              "      display:flex;\n",
              "      gap: 12px;\n",
              "    }\n",
              "\n",
              "    .colab-df-convert {\n",
              "      background-color: #E8F0FE;\n",
              "      border: none;\n",
              "      border-radius: 50%;\n",
              "      cursor: pointer;\n",
              "      display: none;\n",
              "      fill: #1967D2;\n",
              "      height: 32px;\n",
              "      padding: 0 0 0 0;\n",
              "      width: 32px;\n",
              "    }\n",
              "\n",
              "    .colab-df-convert:hover {\n",
              "      background-color: #E2EBFA;\n",
              "      box-shadow: 0px 1px 2px rgba(60, 64, 67, 0.3), 0px 1px 3px 1px rgba(60, 64, 67, 0.15);\n",
              "      fill: #174EA6;\n",
              "    }\n",
              "\n",
              "    .colab-df-buttons div {\n",
              "      margin-bottom: 4px;\n",
              "    }\n",
              "\n",
              "    [theme=dark] .colab-df-convert {\n",
              "      background-color: #3B4455;\n",
              "      fill: #D2E3FC;\n",
              "    }\n",
              "\n",
              "    [theme=dark] .colab-df-convert:hover {\n",
              "      background-color: #434B5C;\n",
              "      box-shadow: 0px 1px 3px 1px rgba(0, 0, 0, 0.15);\n",
              "      filter: drop-shadow(0px 1px 2px rgba(0, 0, 0, 0.3));\n",
              "      fill: #FFFFFF;\n",
              "    }\n",
              "  </style>\n",
              "\n",
              "    <script>\n",
              "      const buttonEl =\n",
              "        document.querySelector('#df-c2f59d81-49e0-454a-998b-5b446114c93f button.colab-df-convert');\n",
              "      buttonEl.style.display =\n",
              "        google.colab.kernel.accessAllowed ? 'block' : 'none';\n",
              "\n",
              "      async function convertToInteractive(key) {\n",
              "        const element = document.querySelector('#df-c2f59d81-49e0-454a-998b-5b446114c93f');\n",
              "        const dataTable =\n",
              "          await google.colab.kernel.invokeFunction('convertToInteractive',\n",
              "                                                    [key], {});\n",
              "        if (!dataTable) return;\n",
              "\n",
              "        const docLinkHtml = 'Like what you see? Visit the ' +\n",
              "          '<a target=\"_blank\" href=https://colab.research.google.com/notebooks/data_table.ipynb>data table notebook</a>'\n",
              "          + ' to learn more about interactive tables.';\n",
              "        element.innerHTML = '';\n",
              "        dataTable['output_type'] = 'display_data';\n",
              "        await google.colab.output.renderOutput(dataTable, element);\n",
              "        const docLink = document.createElement('div');\n",
              "        docLink.innerHTML = docLinkHtml;\n",
              "        element.appendChild(docLink);\n",
              "      }\n",
              "    </script>\n",
              "  </div>\n",
              "\n",
              "\n",
              "<div id=\"df-e25821e8-3987-4d1a-a138-f455e7628259\">\n",
              "  <button class=\"colab-df-quickchart\" onclick=\"quickchart('df-e25821e8-3987-4d1a-a138-f455e7628259')\"\n",
              "            title=\"Suggest charts\"\n",
              "            style=\"display:none;\">\n",
              "\n",
              "<svg xmlns=\"http://www.w3.org/2000/svg\" height=\"24px\"viewBox=\"0 0 24 24\"\n",
              "     width=\"24px\">\n",
              "    <g>\n",
              "        <path d=\"M19 3H5c-1.1 0-2 .9-2 2v14c0 1.1.9 2 2 2h14c1.1 0 2-.9 2-2V5c0-1.1-.9-2-2-2zM9 17H7v-7h2v7zm4 0h-2V7h2v10zm4 0h-2v-4h2v4z\"/>\n",
              "    </g>\n",
              "</svg>\n",
              "  </button>\n",
              "\n",
              "<style>\n",
              "  .colab-df-quickchart {\n",
              "      --bg-color: #E8F0FE;\n",
              "      --fill-color: #1967D2;\n",
              "      --hover-bg-color: #E2EBFA;\n",
              "      --hover-fill-color: #174EA6;\n",
              "      --disabled-fill-color: #AAA;\n",
              "      --disabled-bg-color: #DDD;\n",
              "  }\n",
              "\n",
              "  [theme=dark] .colab-df-quickchart {\n",
              "      --bg-color: #3B4455;\n",
              "      --fill-color: #D2E3FC;\n",
              "      --hover-bg-color: #434B5C;\n",
              "      --hover-fill-color: #FFFFFF;\n",
              "      --disabled-bg-color: #3B4455;\n",
              "      --disabled-fill-color: #666;\n",
              "  }\n",
              "\n",
              "  .colab-df-quickchart {\n",
              "    background-color: var(--bg-color);\n",
              "    border: none;\n",
              "    border-radius: 50%;\n",
              "    cursor: pointer;\n",
              "    display: none;\n",
              "    fill: var(--fill-color);\n",
              "    height: 32px;\n",
              "    padding: 0;\n",
              "    width: 32px;\n",
              "  }\n",
              "\n",
              "  .colab-df-quickchart:hover {\n",
              "    background-color: var(--hover-bg-color);\n",
              "    box-shadow: 0 1px 2px rgba(60, 64, 67, 0.3), 0 1px 3px 1px rgba(60, 64, 67, 0.15);\n",
              "    fill: var(--button-hover-fill-color);\n",
              "  }\n",
              "\n",
              "  .colab-df-quickchart-complete:disabled,\n",
              "  .colab-df-quickchart-complete:disabled:hover {\n",
              "    background-color: var(--disabled-bg-color);\n",
              "    fill: var(--disabled-fill-color);\n",
              "    box-shadow: none;\n",
              "  }\n",
              "\n",
              "  .colab-df-spinner {\n",
              "    border: 2px solid var(--fill-color);\n",
              "    border-color: transparent;\n",
              "    border-bottom-color: var(--fill-color);\n",
              "    animation:\n",
              "      spin 1s steps(1) infinite;\n",
              "  }\n",
              "\n",
              "  @keyframes spin {\n",
              "    0% {\n",
              "      border-color: transparent;\n",
              "      border-bottom-color: var(--fill-color);\n",
              "      border-left-color: var(--fill-color);\n",
              "    }\n",
              "    20% {\n",
              "      border-color: transparent;\n",
              "      border-left-color: var(--fill-color);\n",
              "      border-top-color: var(--fill-color);\n",
              "    }\n",
              "    30% {\n",
              "      border-color: transparent;\n",
              "      border-left-color: var(--fill-color);\n",
              "      border-top-color: var(--fill-color);\n",
              "      border-right-color: var(--fill-color);\n",
              "    }\n",
              "    40% {\n",
              "      border-color: transparent;\n",
              "      border-right-color: var(--fill-color);\n",
              "      border-top-color: var(--fill-color);\n",
              "    }\n",
              "    60% {\n",
              "      border-color: transparent;\n",
              "      border-right-color: var(--fill-color);\n",
              "    }\n",
              "    80% {\n",
              "      border-color: transparent;\n",
              "      border-right-color: var(--fill-color);\n",
              "      border-bottom-color: var(--fill-color);\n",
              "    }\n",
              "    90% {\n",
              "      border-color: transparent;\n",
              "      border-bottom-color: var(--fill-color);\n",
              "    }\n",
              "  }\n",
              "</style>\n",
              "\n",
              "  <script>\n",
              "    async function quickchart(key) {\n",
              "      const quickchartButtonEl =\n",
              "        document.querySelector('#' + key + ' button');\n",
              "      quickchartButtonEl.disabled = true;  // To prevent multiple clicks.\n",
              "      quickchartButtonEl.classList.add('colab-df-spinner');\n",
              "      try {\n",
              "        const charts = await google.colab.kernel.invokeFunction(\n",
              "            'suggestCharts', [key], {});\n",
              "      } catch (error) {\n",
              "        console.error('Error during call to suggestCharts:', error);\n",
              "      }\n",
              "      quickchartButtonEl.classList.remove('colab-df-spinner');\n",
              "      quickchartButtonEl.classList.add('colab-df-quickchart-complete');\n",
              "    }\n",
              "    (() => {\n",
              "      let quickchartButtonEl =\n",
              "        document.querySelector('#df-e25821e8-3987-4d1a-a138-f455e7628259 button');\n",
              "      quickchartButtonEl.style.display =\n",
              "        google.colab.kernel.accessAllowed ? 'block' : 'none';\n",
              "    })();\n",
              "  </script>\n",
              "</div>\n",
              "\n",
              "    </div>\n",
              "  </div>\n"
            ],
            "application/vnd.google.colaboratory.intrinsic+json": {
              "type": "dataframe",
              "variable_name": "parsed",
              "summary": "{\n  \"name\": \"parsed\",\n  \"rows\": 1300,\n  \"fields\": [\n    {\n      \"column\": \"Rows\",\n      \"properties\": {\n        \"dtype\": \"number\",\n        \"std\": 0,\n        \"min\": 3,\n        \"max\": 6,\n        \"num_unique_values\": 4,\n        \"samples\": [\n          4,\n          6,\n          3\n        ],\n        \"semantic_type\": \"\",\n        \"description\": \"\"\n      }\n    },\n    {\n      \"column\": \"Columns\",\n      \"properties\": {\n        \"dtype\": \"number\",\n        \"std\": 1,\n        \"min\": 3,\n        \"max\": 6,\n        \"num_unique_values\": 4,\n        \"samples\": [\n          4,\n          6,\n          3\n        ],\n        \"semantic_type\": \"\",\n        \"description\": \"\"\n      }\n    },\n    {\n      \"column\": \"BombsOnBoard\",\n      \"properties\": {\n        \"dtype\": \"number\",\n        \"std\": 4,\n        \"min\": 1,\n        \"max\": 21,\n        \"num_unique_values\": 21,\n        \"samples\": [\n          1,\n          18,\n          17\n        ],\n        \"semantic_type\": \"\",\n        \"description\": \"\"\n      }\n    },\n    {\n      \"column\": \"SuccessesNeededToWin\",\n      \"properties\": {\n        \"dtype\": \"number\",\n        \"std\": 4,\n        \"min\": 3,\n        \"max\": 16,\n        \"num_unique_values\": 14,\n        \"samples\": [\n          12,\n          14,\n          3\n        ],\n        \"semantic_type\": \"\",\n        \"description\": \"\"\n      }\n    },\n    {\n      \"column\": \"ChestIconIndex\",\n      \"properties\": {\n        \"dtype\": \"number\",\n        \"std\": 0,\n        \"min\": 0,\n        \"max\": 2,\n        \"num_unique_values\": 3,\n        \"samples\": [\n          0,\n          1,\n          2\n        ],\n        \"semantic_type\": \"\",\n        \"description\": \"\"\n      }\n    }\n  ]\n}"
            }
          },
          "metadata": {},
          "execution_count": 18
        }
      ],
      "source": [
        "parsed = level_info[['Rows', 'Columns', 'BombsOnBoard', 'SuccessesNeededToWin', 'ChestIconIndex']]\n",
        "parsed.head(5)"
      ]
    },
    {
      "cell_type": "markdown",
      "metadata": {
        "id": "GCYS4UmMkvAl"
      },
      "source": [
        "Next, the boards are set up."
      ]
    },
    {
      "cell_type": "code",
      "execution_count": null,
      "metadata": {
        "id": "E05XEfsCkvAl"
      },
      "outputs": [],
      "source": [
        "boards = []\n",
        "for row in parsed.itertuples(index=False):\n",
        "    boards.append(Board([row[0],row[1]],row[2],row[3],row[4]))\n",
        "# boards[500].target"
      ]
    },
    {
      "cell_type": "markdown",
      "metadata": {
        "id": "WHN2JLhjkvAl"
      },
      "source": [
        "The event simulator function itself."
      ]
    },
    {
      "cell_type": "code",
      "execution_count": null,
      "metadata": {
        "id": "_zDZzfYLkvAl"
      },
      "outputs": [],
      "source": [
        "def event_sim(n, start):\n",
        "    results = np.zeros(n)\n",
        "    for j in range(n):\n",
        "        i = 0\n",
        "        scissors = start\n",
        "        while scissors > 0:\n",
        "            p = boards[i].presents\n",
        "            t = boards[i].trolls\n",
        "            target = boards[i].target\n",
        "\n",
        "            scissors_used = present_panic_sim_c(p,t,target)\n",
        "            scissors -= scissors_used\n",
        "\n",
        "            if scissors > 0:\n",
        "                i += 1\n",
        "        results[j] = i\n",
        "    return results"
      ]
    },
    {
      "cell_type": "markdown",
      "metadata": {
        "id": "vdTbYtLdkvAl"
      },
      "source": [
        "Time to simulate! The scissor count is assuming if a player does 99 prestiges for all 21 days, without buying additional bundles."
      ]
    },
    {
      "cell_type": "code",
      "execution_count": null,
      "metadata": {
        "colab": {
          "base_uri": "https://localhost:8080/",
          "height": 1000
        },
        "id": "LYibwwuskvAl",
        "outputId": "ad0c8aad-ddfc-4443-c4ce-06b3c998cc95"
      },
      "outputs": [
        {
          "output_type": "execute_result",
          "data": {
            "text/plain": [
              "409.0        1\n",
              "411.0        1\n",
              "412.0        9\n",
              "413.0       22\n",
              "414.0       32\n",
              "415.0       68\n",
              "416.0      438\n",
              "417.0      525\n",
              "418.0      919\n",
              "419.0     1359\n",
              "420.0     4184\n",
              "421.0     3653\n",
              "422.0     4676\n",
              "423.0     6018\n",
              "424.0    12758\n",
              "425.0     8245\n",
              "426.0     8485\n",
              "427.0     8355\n",
              "428.0    13468\n",
              "429.0     6308\n",
              "430.0     6037\n",
              "431.0     4716\n",
              "432.0     5555\n",
              "433.0     1742\n",
              "434.0     1029\n",
              "435.0      647\n",
              "436.0      526\n",
              "437.0      118\n",
              "438.0       55\n",
              "439.0       28\n",
              "440.0       18\n",
              "441.0        5\n",
              "dtype: int64"
            ],
            "text/html": [
              "<div>\n",
              "<style scoped>\n",
              "    .dataframe tbody tr th:only-of-type {\n",
              "        vertical-align: middle;\n",
              "    }\n",
              "\n",
              "    .dataframe tbody tr th {\n",
              "        vertical-align: top;\n",
              "    }\n",
              "\n",
              "    .dataframe thead th {\n",
              "        text-align: right;\n",
              "    }\n",
              "</style>\n",
              "<table border=\"1\" class=\"dataframe\">\n",
              "  <thead>\n",
              "    <tr style=\"text-align: right;\">\n",
              "      <th></th>\n",
              "      <th>0</th>\n",
              "    </tr>\n",
              "  </thead>\n",
              "  <tbody>\n",
              "    <tr>\n",
              "      <th>409.0</th>\n",
              "      <td>1</td>\n",
              "    </tr>\n",
              "    <tr>\n",
              "      <th>411.0</th>\n",
              "      <td>1</td>\n",
              "    </tr>\n",
              "    <tr>\n",
              "      <th>412.0</th>\n",
              "      <td>9</td>\n",
              "    </tr>\n",
              "    <tr>\n",
              "      <th>413.0</th>\n",
              "      <td>22</td>\n",
              "    </tr>\n",
              "    <tr>\n",
              "      <th>414.0</th>\n",
              "      <td>32</td>\n",
              "    </tr>\n",
              "    <tr>\n",
              "      <th>415.0</th>\n",
              "      <td>68</td>\n",
              "    </tr>\n",
              "    <tr>\n",
              "      <th>416.0</th>\n",
              "      <td>438</td>\n",
              "    </tr>\n",
              "    <tr>\n",
              "      <th>417.0</th>\n",
              "      <td>525</td>\n",
              "    </tr>\n",
              "    <tr>\n",
              "      <th>418.0</th>\n",
              "      <td>919</td>\n",
              "    </tr>\n",
              "    <tr>\n",
              "      <th>419.0</th>\n",
              "      <td>1359</td>\n",
              "    </tr>\n",
              "    <tr>\n",
              "      <th>420.0</th>\n",
              "      <td>4184</td>\n",
              "    </tr>\n",
              "    <tr>\n",
              "      <th>421.0</th>\n",
              "      <td>3653</td>\n",
              "    </tr>\n",
              "    <tr>\n",
              "      <th>422.0</th>\n",
              "      <td>4676</td>\n",
              "    </tr>\n",
              "    <tr>\n",
              "      <th>423.0</th>\n",
              "      <td>6018</td>\n",
              "    </tr>\n",
              "    <tr>\n",
              "      <th>424.0</th>\n",
              "      <td>12758</td>\n",
              "    </tr>\n",
              "    <tr>\n",
              "      <th>425.0</th>\n",
              "      <td>8245</td>\n",
              "    </tr>\n",
              "    <tr>\n",
              "      <th>426.0</th>\n",
              "      <td>8485</td>\n",
              "    </tr>\n",
              "    <tr>\n",
              "      <th>427.0</th>\n",
              "      <td>8355</td>\n",
              "    </tr>\n",
              "    <tr>\n",
              "      <th>428.0</th>\n",
              "      <td>13468</td>\n",
              "    </tr>\n",
              "    <tr>\n",
              "      <th>429.0</th>\n",
              "      <td>6308</td>\n",
              "    </tr>\n",
              "    <tr>\n",
              "      <th>430.0</th>\n",
              "      <td>6037</td>\n",
              "    </tr>\n",
              "    <tr>\n",
              "      <th>431.0</th>\n",
              "      <td>4716</td>\n",
              "    </tr>\n",
              "    <tr>\n",
              "      <th>432.0</th>\n",
              "      <td>5555</td>\n",
              "    </tr>\n",
              "    <tr>\n",
              "      <th>433.0</th>\n",
              "      <td>1742</td>\n",
              "    </tr>\n",
              "    <tr>\n",
              "      <th>434.0</th>\n",
              "      <td>1029</td>\n",
              "    </tr>\n",
              "    <tr>\n",
              "      <th>435.0</th>\n",
              "      <td>647</td>\n",
              "    </tr>\n",
              "    <tr>\n",
              "      <th>436.0</th>\n",
              "      <td>526</td>\n",
              "    </tr>\n",
              "    <tr>\n",
              "      <th>437.0</th>\n",
              "      <td>118</td>\n",
              "    </tr>\n",
              "    <tr>\n",
              "      <th>438.0</th>\n",
              "      <td>55</td>\n",
              "    </tr>\n",
              "    <tr>\n",
              "      <th>439.0</th>\n",
              "      <td>28</td>\n",
              "    </tr>\n",
              "    <tr>\n",
              "      <th>440.0</th>\n",
              "      <td>18</td>\n",
              "    </tr>\n",
              "    <tr>\n",
              "      <th>441.0</th>\n",
              "      <td>5</td>\n",
              "    </tr>\n",
              "  </tbody>\n",
              "</table>\n",
              "</div><br><label><b>dtype:</b> int64</label>"
            ]
          },
          "metadata": {},
          "execution_count": 21
        }
      ],
      "source": [
        "scis_count = 99*21*3\n",
        "n = 100000\n",
        "e1 = event_sim(n, scis_count)\n",
        "\n",
        "unique, counts = np.unique(e1, return_counts=True)\n",
        "e_summary1 = dict(zip(unique, counts))\n",
        "df3 = pd.Series(e_summary1)\n",
        "df3"
      ]
    },
    {
      "cell_type": "code",
      "execution_count": null,
      "metadata": {
        "colab": {
          "base_uri": "https://localhost:8080/",
          "height": 564
        },
        "id": "dFofvQoqkvAm",
        "outputId": "0b97dc86-bae8-4524-9347-11153f1db931"
      },
      "outputs": [
        {
          "output_type": "display_data",
          "data": {
            "text/plain": [
              "<Figure size 1000x600 with 1 Axes>"
            ],
            "image/png": "[encoded data removed]"
          },
          "metadata": {}
        }
      ],
      "source": [
        "norm = plt.Normalize(min(unique), max(unique))\n",
        "colormap = plt.cm.viridis\n",
        "colors = colormap(norm(unique))\n",
        "\n",
        "plt.figure(figsize=(10,6))\n",
        "ax1 = plt.bar(unique, height=counts, color=colors)\n",
        "plt.title(\n",
        "    f\"Board number a player stops at, \"\n",
        "    f\"starting with {scis_count} scissor{'' if scis_count == 1 else 's'} \"\n",
        "    f\"({n} simulations)\"\n",
        ")\n",
        "plt.xlabel('Boards Completed')\n",
        "plt.ylabel('Frequency')\n",
        "plt.show()"
      ]
    },
    {
      "cell_type": "code",
      "execution_count": null,
      "metadata": {
        "colab": {
          "base_uri": "https://localhost:8080/"
        },
        "id": "bqjlNh06kvAm",
        "outputId": "8377d739-b54f-465f-d56b-cce067d3a15f"
      },
      "outputs": [
        {
          "output_type": "stream",
          "name": "stdout",
          "text": [
            "Board size: 6x6\n",
            "Trolls count: 13\n",
            "Streak needed: 11\n",
            "Difficulty: Hard\n"
          ]
        }
      ],
      "source": [
        "print(boards[428])"
      ]
    },
    {
      "cell_type": "markdown",
      "metadata": {
        "id": "v4bxaGd6kvAm"
      },
      "source": [
        "## Playground\n",
        "Choose a level you are currently on and see its average scissor cost!"
      ]
    },
    {
      "cell_type": "code",
      "execution_count": null,
      "metadata": {
        "colab": {
          "base_uri": "https://localhost:8080/",
          "height": 612
        },
        "id": "OosRd3eCkvAm",
        "outputId": "47bf5657-4ceb-4bea-e627-1d95a70f7786"
      },
      "outputs": [
        {
          "output_type": "stream",
          "name": "stdout",
          "text": [
            "Board size: 6x4\n",
            "Trolls count: 6\n",
            "Streak needed: 7\n",
            "Difficulty: Easy\n"
          ]
        },
        {
          "output_type": "display_data",
          "data": {
            "text/plain": [
              "<Figure size 1200x600 with 1 Axes>"
            ],
            "image/png": "[encoded data removed]"
          },
          "metadata": {}
        }
      ],
      "source": [
        "my_idx = 332 # Edit here\n",
        "my_board = boards[my_idx-1]\n",
        "print(my_board)\n",
        "n = 1000000\n",
        "my_sim = present_panic_sim_runner(n,my_board.presents,my_board.trolls,my_board.target)\n",
        "unique, counts = np.unique(my_sim, return_counts=True)\n",
        "\n",
        "norm = plt.Normalize(min(unique), max(unique))\n",
        "colormap = plt.cm.viridis\n",
        "colors = colormap(norm(unique))\n",
        "plt.figure(figsize=(12,6))\n",
        "my_ax = plt.bar(unique, height=counts, color=colors)\n",
        "plt.title(\n",
        "    f\"Scissors needed to get {my_board.target} correct presents, on a \"\n",
        "    f\"{my_board.dim[0]}x{my_board.dim[1]} board, with {my_board.trolls} troll\"\n",
        "    f\"{'' if my_board.trolls == 1 else 's'}\\n\"\n",
        "    f\"({n} simulations, board {my_idx})\"\n",
        ")\n",
        "plt.xlabel('Scissors')\n",
        "plt.ylabel('Frequency')\n",
        "plt.show()"
      ]
    }
  ],
  "metadata": {
    "kernelspec": {
      "display_name": "base",
      "language": "python",
      "name": "python3"
    },
    "language_info": {
      "codemirror_mode": {
        "name": "ipython",
        "version": 3
      },
      "file_extension": ".py",
      "mimetype": "text/x-python",
      "name": "python",
      "nbconvert_exporter": "python",
      "pygments_lexer": "ipython3",
      "version": "3.12.4"
    },
    "colab": {
      "provenance": [],
      "include_colab_link": true
    }
  },
  "nbformat": 4,
  "nbformat_minor": 0
}